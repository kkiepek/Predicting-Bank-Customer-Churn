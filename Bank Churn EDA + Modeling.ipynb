{
 "cells": [
  {
   "cell_type": "markdown",
   "metadata": {},
   "source": [
    "# Introduction"
   ]
  },
  {
   "cell_type": "markdown",
   "metadata": {},
   "source": [
    "The reputation of a bank starts from customer loyalty. In order for a bank to increase customer retention, we need to be able to analyze our existing customer database and ask the question \"what drives customers to leave?\". \n",
    "\n",
    "In order to answer this question and find a solution to reduce attrition, the team took a sample datatset of customers in France, Spain and Germany. This notebook serves as a blueprint for importing bank customer data, initial data analysis, cleaning it as well as analyzing it. We understand that customers are the key asset for a bank's success and it's much easier to retain an existing customer than acquiring a new one. With this dataset, we want to explore the given features of our customers, analyze it and provide a tool for our banks to pinpoint which customers they predict will churn and take preventative measures to increase customer loyalty."
   ]
  },
  {
   "cell_type": "markdown",
   "metadata": {},
   "source": [
    "## Business Understanding\n",
    "\n"
   ]
  },
  {
   "cell_type": "markdown",
   "metadata": {},
   "source": []
  },
  {
   "cell_type": "markdown",
   "metadata": {},
   "source": [
    "# Data Understanding - Exploratory Data Analysis"
   ]
  },
  {
   "cell_type": "markdown",
   "metadata": {},
   "source": [
    "# Introduction"
   ]
  },
  {
   "cell_type": "code",
   "execution_count": 37,
   "metadata": {},
   "outputs": [],
   "source": [
    "import pandas as pd\n",
    "import numpy as np\n",
    "import seaborn as sns"
   ]
  },
  {
   "cell_type": "code",
   "execution_count": 38,
   "metadata": {
    "scrolled": true
   },
   "outputs": [
    {
     "data": {
      "text/html": [
       "<div>\n",
       "<style scoped>\n",
       "    .dataframe tbody tr th:only-of-type {\n",
       "        vertical-align: middle;\n",
       "    }\n",
       "\n",
       "    .dataframe tbody tr th {\n",
       "        vertical-align: top;\n",
       "    }\n",
       "\n",
       "    .dataframe thead th {\n",
       "        text-align: right;\n",
       "    }\n",
       "</style>\n",
       "<table border=\"1\" class=\"dataframe\">\n",
       "  <thead>\n",
       "    <tr style=\"text-align: right;\">\n",
       "      <th></th>\n",
       "      <th>customer_id</th>\n",
       "      <th>credit_score</th>\n",
       "      <th>country</th>\n",
       "      <th>gender</th>\n",
       "      <th>age</th>\n",
       "      <th>tenure</th>\n",
       "      <th>balance</th>\n",
       "      <th>products_number</th>\n",
       "      <th>credit_card</th>\n",
       "      <th>active_member</th>\n",
       "      <th>estimated_salary</th>\n",
       "      <th>churn</th>\n",
       "    </tr>\n",
       "  </thead>\n",
       "  <tbody>\n",
       "    <tr>\n",
       "      <th>0</th>\n",
       "      <td>15634602</td>\n",
       "      <td>619</td>\n",
       "      <td>France</td>\n",
       "      <td>Female</td>\n",
       "      <td>42</td>\n",
       "      <td>2</td>\n",
       "      <td>0.00</td>\n",
       "      <td>1</td>\n",
       "      <td>1</td>\n",
       "      <td>1</td>\n",
       "      <td>101348.88</td>\n",
       "      <td>1</td>\n",
       "    </tr>\n",
       "    <tr>\n",
       "      <th>1</th>\n",
       "      <td>15647311</td>\n",
       "      <td>608</td>\n",
       "      <td>Spain</td>\n",
       "      <td>Female</td>\n",
       "      <td>41</td>\n",
       "      <td>1</td>\n",
       "      <td>83807.86</td>\n",
       "      <td>1</td>\n",
       "      <td>0</td>\n",
       "      <td>1</td>\n",
       "      <td>112542.58</td>\n",
       "      <td>0</td>\n",
       "    </tr>\n",
       "    <tr>\n",
       "      <th>2</th>\n",
       "      <td>15619304</td>\n",
       "      <td>502</td>\n",
       "      <td>France</td>\n",
       "      <td>Female</td>\n",
       "      <td>42</td>\n",
       "      <td>8</td>\n",
       "      <td>159660.80</td>\n",
       "      <td>3</td>\n",
       "      <td>1</td>\n",
       "      <td>0</td>\n",
       "      <td>113931.57</td>\n",
       "      <td>1</td>\n",
       "    </tr>\n",
       "    <tr>\n",
       "      <th>3</th>\n",
       "      <td>15701354</td>\n",
       "      <td>699</td>\n",
       "      <td>France</td>\n",
       "      <td>Female</td>\n",
       "      <td>39</td>\n",
       "      <td>1</td>\n",
       "      <td>0.00</td>\n",
       "      <td>2</td>\n",
       "      <td>0</td>\n",
       "      <td>0</td>\n",
       "      <td>93826.63</td>\n",
       "      <td>0</td>\n",
       "    </tr>\n",
       "    <tr>\n",
       "      <th>4</th>\n",
       "      <td>15737888</td>\n",
       "      <td>850</td>\n",
       "      <td>Spain</td>\n",
       "      <td>Female</td>\n",
       "      <td>43</td>\n",
       "      <td>2</td>\n",
       "      <td>125510.82</td>\n",
       "      <td>1</td>\n",
       "      <td>1</td>\n",
       "      <td>1</td>\n",
       "      <td>79084.10</td>\n",
       "      <td>0</td>\n",
       "    </tr>\n",
       "  </tbody>\n",
       "</table>\n",
       "</div>"
      ],
      "text/plain": [
       "   customer_id  credit_score country  gender  age  tenure    balance  \\\n",
       "0     15634602           619  France  Female   42       2       0.00   \n",
       "1     15647311           608   Spain  Female   41       1   83807.86   \n",
       "2     15619304           502  France  Female   42       8  159660.80   \n",
       "3     15701354           699  France  Female   39       1       0.00   \n",
       "4     15737888           850   Spain  Female   43       2  125510.82   \n",
       "\n",
       "   products_number  credit_card  active_member  estimated_salary  churn  \n",
       "0                1            1              1         101348.88      1  \n",
       "1                1            0              1         112542.58      0  \n",
       "2                3            1              0         113931.57      1  \n",
       "3                2            0              0          93826.63      0  \n",
       "4                1            1              1          79084.10      0  "
      ]
     },
     "execution_count": 38,
     "metadata": {},
     "output_type": "execute_result"
    }
   ],
   "source": [
    "df = pd.read_csv(\"bank_churn2.csv\")\n",
    "df.head()"
   ]
  },
  {
   "cell_type": "markdown",
   "metadata": {},
   "source": [
    "At first look our key features besides customer_id and churn are:\n",
    "- credit_score\n",
    "- country\n",
    "- gender\n",
    "- age\n",
    "- tenure\n",
    "- balance\n",
    "- products_number\n",
    "- credit_card\n",
    "- active_member\n",
    "- estimated_salary"
   ]
  },
  {
   "cell_type": "code",
   "execution_count": 39,
   "metadata": {},
   "outputs": [
    {
     "data": {
      "text/plain": [
       "(10000, 12)"
      ]
     },
     "execution_count": 39,
     "metadata": {},
     "output_type": "execute_result"
    }
   ],
   "source": [
    "df.shape"
   ]
  },
  {
   "cell_type": "markdown",
   "metadata": {},
   "source": [
    "There are 10,000 values in our dataset; a pretty large and even amount of datapoints for analysis. Let's dive deeper and see if there needs to be any cleaning done to the dataset."
   ]
  },
  {
   "cell_type": "code",
   "execution_count": 40,
   "metadata": {
    "scrolled": true
   },
   "outputs": [
    {
     "data": {
      "text/html": [
       "<div>\n",
       "<style scoped>\n",
       "    .dataframe tbody tr th:only-of-type {\n",
       "        vertical-align: middle;\n",
       "    }\n",
       "\n",
       "    .dataframe tbody tr th {\n",
       "        vertical-align: top;\n",
       "    }\n",
       "\n",
       "    .dataframe thead th {\n",
       "        text-align: right;\n",
       "    }\n",
       "</style>\n",
       "<table border=\"1\" class=\"dataframe\">\n",
       "  <thead>\n",
       "    <tr style=\"text-align: right;\">\n",
       "      <th></th>\n",
       "      <th>count</th>\n",
       "      <th>mean</th>\n",
       "      <th>std</th>\n",
       "      <th>min</th>\n",
       "      <th>25%</th>\n",
       "      <th>50%</th>\n",
       "      <th>75%</th>\n",
       "      <th>max</th>\n",
       "    </tr>\n",
       "  </thead>\n",
       "  <tbody>\n",
       "    <tr>\n",
       "      <th>customer_id</th>\n",
       "      <td>10000.00</td>\n",
       "      <td>15690940.57</td>\n",
       "      <td>71936.19</td>\n",
       "      <td>15565701.00</td>\n",
       "      <td>15628528.25</td>\n",
       "      <td>15690738.00</td>\n",
       "      <td>15753233.75</td>\n",
       "      <td>15815690.00</td>\n",
       "    </tr>\n",
       "    <tr>\n",
       "      <th>credit_score</th>\n",
       "      <td>10000.00</td>\n",
       "      <td>650.53</td>\n",
       "      <td>96.65</td>\n",
       "      <td>350.00</td>\n",
       "      <td>584.00</td>\n",
       "      <td>652.00</td>\n",
       "      <td>718.00</td>\n",
       "      <td>850.00</td>\n",
       "    </tr>\n",
       "    <tr>\n",
       "      <th>age</th>\n",
       "      <td>10000.00</td>\n",
       "      <td>38.92</td>\n",
       "      <td>10.49</td>\n",
       "      <td>18.00</td>\n",
       "      <td>32.00</td>\n",
       "      <td>37.00</td>\n",
       "      <td>44.00</td>\n",
       "      <td>92.00</td>\n",
       "    </tr>\n",
       "    <tr>\n",
       "      <th>tenure</th>\n",
       "      <td>10000.00</td>\n",
       "      <td>5.01</td>\n",
       "      <td>2.89</td>\n",
       "      <td>0.00</td>\n",
       "      <td>3.00</td>\n",
       "      <td>5.00</td>\n",
       "      <td>7.00</td>\n",
       "      <td>10.00</td>\n",
       "    </tr>\n",
       "    <tr>\n",
       "      <th>balance</th>\n",
       "      <td>10000.00</td>\n",
       "      <td>76485.89</td>\n",
       "      <td>62397.41</td>\n",
       "      <td>0.00</td>\n",
       "      <td>0.00</td>\n",
       "      <td>97198.54</td>\n",
       "      <td>127644.24</td>\n",
       "      <td>250898.09</td>\n",
       "    </tr>\n",
       "    <tr>\n",
       "      <th>products_number</th>\n",
       "      <td>10000.00</td>\n",
       "      <td>1.53</td>\n",
       "      <td>0.58</td>\n",
       "      <td>1.00</td>\n",
       "      <td>1.00</td>\n",
       "      <td>1.00</td>\n",
       "      <td>2.00</td>\n",
       "      <td>4.00</td>\n",
       "    </tr>\n",
       "    <tr>\n",
       "      <th>credit_card</th>\n",
       "      <td>10000.00</td>\n",
       "      <td>0.71</td>\n",
       "      <td>0.46</td>\n",
       "      <td>0.00</td>\n",
       "      <td>0.00</td>\n",
       "      <td>1.00</td>\n",
       "      <td>1.00</td>\n",
       "      <td>1.00</td>\n",
       "    </tr>\n",
       "    <tr>\n",
       "      <th>active_member</th>\n",
       "      <td>10000.00</td>\n",
       "      <td>0.52</td>\n",
       "      <td>0.50</td>\n",
       "      <td>0.00</td>\n",
       "      <td>0.00</td>\n",
       "      <td>1.00</td>\n",
       "      <td>1.00</td>\n",
       "      <td>1.00</td>\n",
       "    </tr>\n",
       "    <tr>\n",
       "      <th>estimated_salary</th>\n",
       "      <td>10000.00</td>\n",
       "      <td>100090.24</td>\n",
       "      <td>57510.49</td>\n",
       "      <td>11.58</td>\n",
       "      <td>51002.11</td>\n",
       "      <td>100193.91</td>\n",
       "      <td>149388.25</td>\n",
       "      <td>199992.48</td>\n",
       "    </tr>\n",
       "    <tr>\n",
       "      <th>churn</th>\n",
       "      <td>10000.00</td>\n",
       "      <td>0.20</td>\n",
       "      <td>0.40</td>\n",
       "      <td>0.00</td>\n",
       "      <td>0.00</td>\n",
       "      <td>0.00</td>\n",
       "      <td>0.00</td>\n",
       "      <td>1.00</td>\n",
       "    </tr>\n",
       "  </tbody>\n",
       "</table>\n",
       "</div>"
      ],
      "text/plain": [
       "                     count         mean       std          min          25%  \\\n",
       "customer_id       10000.00  15690940.57  71936.19  15565701.00  15628528.25   \n",
       "credit_score      10000.00       650.53     96.65       350.00       584.00   \n",
       "age               10000.00        38.92     10.49        18.00        32.00   \n",
       "tenure            10000.00         5.01      2.89         0.00         3.00   \n",
       "balance           10000.00     76485.89  62397.41         0.00         0.00   \n",
       "products_number   10000.00         1.53      0.58         1.00         1.00   \n",
       "credit_card       10000.00         0.71      0.46         0.00         0.00   \n",
       "active_member     10000.00         0.52      0.50         0.00         0.00   \n",
       "estimated_salary  10000.00    100090.24  57510.49        11.58     51002.11   \n",
       "churn             10000.00         0.20      0.40         0.00         0.00   \n",
       "\n",
       "                          50%          75%          max  \n",
       "customer_id       15690738.00  15753233.75  15815690.00  \n",
       "credit_score           652.00       718.00       850.00  \n",
       "age                     37.00        44.00        92.00  \n",
       "tenure                   5.00         7.00        10.00  \n",
       "balance              97198.54    127644.24    250898.09  \n",
       "products_number          1.00         2.00         4.00  \n",
       "credit_card              1.00         1.00         1.00  \n",
       "active_member            1.00         1.00         1.00  \n",
       "estimated_salary    100193.91    149388.25    199992.48  \n",
       "churn                    0.00         0.00         1.00  "
      ]
     },
     "execution_count": 40,
     "metadata": {},
     "output_type": "execute_result"
    }
   ],
   "source": [
    "df.describe().apply(lambda s: s.apply('{0:.2f}'.format)).T"
   ]
  },
  {
   "cell_type": "markdown",
   "metadata": {},
   "source": [
    "Takeaways - First Glance\n",
    "- Average age of customers is approximately 39 years old\n",
    "- Follow up on the previous point, average salary is about 100k. I wonder what currency this is considering that it is in three different countries or if it has been converted to USD **(Let's assume it's USD)**\n",
    "- On average, churn rate is about 20% (considering that churn is a binary feature)\n",
    "- Value counts of every feature match, which means there aren't any missing values in this data set\n",
    "- Max tenure of the customers of this dataset is 10 years, but on average the tenure is 5 years. This seems like a really short time considering the age range of the customers.\n",
    "\n",
    "Assumptions\n",
    "- If active_member is 0 that means that they are idle customers and if it is 1 that means that they are an active customer with an active account.\n",
    "- Tenure is number of years that a customer has been a part of the bank"
   ]
  },
  {
   "cell_type": "code",
   "execution_count": 41,
   "metadata": {},
   "outputs": [
    {
     "data": {
      "text/plain": [
       "0    0.7963\n",
       "1    0.2037\n",
       "Name: churn, dtype: float64"
      ]
     },
     "execution_count": 41,
     "metadata": {},
     "output_type": "execute_result"
    }
   ],
   "source": [
    "df['churn'].value_counts() / len(df['churn'])"
   ]
  },
  {
   "cell_type": "markdown",
   "metadata": {},
   "source": [
    "20.37% of customers have churned in the dataset. Let's dive deeper to see if there are any features that might be correlated or influence churn."
   ]
  },
  {
   "cell_type": "code",
   "execution_count": 42,
   "metadata": {},
   "outputs": [
    {
     "name": "stdout",
     "output_type": "stream",
     "text": [
      "Current Customers (0) vs. Customers Churned (1)\n",
      "0    7963\n",
      "1    2037\n",
      "Name: churn, dtype: int64\n"
     ]
    },
    {
     "data": {
      "image/png": "[encoded data removed]",
      "text/plain": [
       "<Figure size 432x288 with 1 Axes>"
      ]
     },
     "metadata": {
      "needs_background": "light"
     },
     "output_type": "display_data"
    }
   ],
   "source": [
    "print('Current Customers (0) vs. Customers Churned (1)')\n",
    "print(df.churn.value_counts())\n",
    "\n",
    "ax = sns.countplot(data=df,x = 'churn')\n",
    "ax.set_xticklabels(['Stayed','Exited'])\n",
    "ax.set_title(\"Distribution of Churn in Customers\");"
   ]
  },
  {
   "cell_type": "markdown",
   "metadata": {},
   "source": [
    "We do have a biased dataset in the sense that there are a lot more customers that stayed rather than churned. This is a note for our modeling to balance out our dataset to have a less biased prediction."
   ]
  },
  {
   "cell_type": "code",
   "execution_count": 43,
   "metadata": {},
   "outputs": [
    {
     "data": {
      "text/plain": [
       "customer_id         0\n",
       "credit_score        0\n",
       "country             0\n",
       "gender              0\n",
       "age                 0\n",
       "tenure              0\n",
       "balance             0\n",
       "products_number     0\n",
       "credit_card         0\n",
       "active_member       0\n",
       "estimated_salary    0\n",
       "churn               0\n",
       "dtype: int64"
      ]
     },
     "execution_count": 43,
     "metadata": {},
     "output_type": "execute_result"
    }
   ],
   "source": [
    "df.isna().sum()"
   ]
  },
  {
   "cell_type": "markdown",
   "metadata": {},
   "source": [
    "There are no missing values in any of the columns"
   ]
  },
  {
   "cell_type": "code",
   "execution_count": 45,
   "metadata": {},
   "outputs": [
    {
     "name": "stdout",
     "output_type": "stream",
     "text": [
      "<class 'pandas.core.frame.DataFrame'>\n",
      "RangeIndex: 10000 entries, 0 to 9999\n",
      "Data columns (total 12 columns):\n",
      " #   Column            Non-Null Count  Dtype  \n",
      "---  ------            --------------  -----  \n",
      " 0   customer_id       10000 non-null  int64  \n",
      " 1   credit_score      10000 non-null  int64  \n",
      " 2   country           10000 non-null  object \n",
      " 3   gender            10000 non-null  object \n",
      " 4   age               10000 non-null  int64  \n",
      " 5   tenure            10000 non-null  int64  \n",
      " 6   balance           10000 non-null  float64\n",
      " 7   products_number   10000 non-null  int64  \n",
      " 8   credit_card       10000 non-null  int64  \n",
      " 9   active_member     10000 non-null  int64  \n",
      " 10  estimated_salary  10000 non-null  float64\n",
      " 11  churn             10000 non-null  int64  \n",
      "dtypes: float64(2), int64(8), object(2)\n",
      "memory usage: 937.6+ KB\n"
     ]
    }
   ],
   "source": [
    "df.info()"
   ]
  },
  {
   "cell_type": "markdown",
   "metadata": {},
   "source": [
    "There are two categorical variables: country and gender. The rest of our variables are either floats or integers."
   ]
  },
  {
   "cell_type": "code",
   "execution_count": 46,
   "metadata": {},
   "outputs": [
    {
     "name": "stdout",
     "output_type": "stream",
     "text": [
      "1    5084\n",
      "2    4590\n",
      "3     266\n",
      "4      60\n",
      "Name: products_number, dtype: int64\n"
     ]
    },
    {
     "data": {
      "image/png": "[encoded data removed]",
      "text/plain": [
       "<Figure size 432x288 with 1 Axes>"
      ]
     },
     "metadata": {
      "needs_background": "light"
     },
     "output_type": "display_data"
    }
   ],
   "source": [
    "print(df[\"products_number\"].value_counts())\n",
    "ax = sns.countplot(data=df,x='products_number')\n",
    "\n",
    "ax.set_title(\"Number of Bank Products Customers Have\");"
   ]
  },
  {
   "cell_type": "code",
   "execution_count": 47,
   "metadata": {},
   "outputs": [
    {
     "data": {
      "text/plain": [
       "<AxesSubplot:xlabel='products_number'>"
      ]
     },
     "execution_count": 47,
     "metadata": {},
     "output_type": "execute_result"
    },
    {
     "data": {
      "image/png": "[encoded data removed]",
      "text/plain": [
       "<Figure size 432x288 with 1 Axes>"
      ]
     },
     "metadata": {
      "needs_background": "light"
     },
     "output_type": "display_data"
    }
   ],
   "source": [
    "df.groupby([\"products_number\", \"churn\"]).size().unstack(level=1).plot(kind='bar')"
   ]
  },
  {
   "cell_type": "code",
   "execution_count": 48,
   "metadata": {},
   "outputs": [
    {
     "name": "stdout",
     "output_type": "stream",
     "text": [
      "France     5014\n",
      "Germany    2509\n",
      "Spain      2477\n",
      "Name: country, dtype: int64\n"
     ]
    },
    {
     "data": {
      "image/png": "[encoded data removed]",
      "text/plain": [
       "<Figure size 432x288 with 1 Axes>"
      ]
     },
     "metadata": {
      "needs_background": "light"
     },
     "output_type": "display_data"
    }
   ],
   "source": [
    "print(df[\"country\"].value_counts())\n",
    "ax = sns.countplot(data=df,x='country')\n",
    "ax.set_title(\"Distribution of Customers by Country\");"
   ]
  },
  {
   "cell_type": "markdown",
   "metadata": {},
   "source": [
    "- The countries for this dataset are from **France, Germany, and Spain**. How does this impact our analysis?"
   ]
  },
  {
   "cell_type": "code",
   "execution_count": 49,
   "metadata": {},
   "outputs": [
    {
     "data": {
      "image/png": "[encoded data removed]",
      "text/plain": [
       "<Figure size 432x288 with 1 Axes>"
      ]
     },
     "metadata": {
      "needs_background": "light"
     },
     "output_type": "display_data"
    }
   ],
   "source": [
    "df.groupby([\"country\", \"churn\"]).size().unstack(level=1).plot(kind='bar');"
   ]
  },
  {
   "cell_type": "code",
   "execution_count": 50,
   "metadata": {},
   "outputs": [
    {
     "name": "stdout",
     "output_type": "stream",
     "text": [
      "Male      5457\n",
      "Female    4543\n",
      "Name: gender, dtype: int64\n"
     ]
    },
    {
     "data": {
      "image/png": "[encoded data removed]",
      "text/plain": [
       "<Figure size 432x288 with 1 Axes>"
      ]
     },
     "metadata": {
      "needs_background": "light"
     },
     "output_type": "display_data"
    }
   ],
   "source": [
    "print(df.gender.value_counts())\n",
    "ax = sns.countplot(data=df,x='gender')\n",
    "ax.set_title(\"Customer Distribution by Gender\");"
   ]
  },
  {
   "cell_type": "markdown",
   "metadata": {},
   "source": [
    "- The gender distribution is almost split evenly, but there are more male customers than female"
   ]
  },
  {
   "cell_type": "code",
   "execution_count": 51,
   "metadata": {},
   "outputs": [
    {
     "data": {
      "image/png": "[encoded data removed]",
      "text/plain": [
       "<Figure size 432x288 with 1 Axes>"
      ]
     },
     "metadata": {
      "needs_background": "light"
     },
     "output_type": "display_data"
    }
   ],
   "source": [
    "df.groupby([\"gender\", \"churn\"]).size().unstack(level=1).plot(kind='bar');"
   ]
  },
  {
   "cell_type": "code",
   "execution_count": 52,
   "metadata": {},
   "outputs": [
    {
     "data": {
      "text/plain": [
       "0"
      ]
     },
     "execution_count": 52,
     "metadata": {},
     "output_type": "execute_result"
    }
   ],
   "source": [
    "df.duplicated().sum()"
   ]
  },
  {
   "cell_type": "markdown",
   "metadata": {},
   "source": [
    "- There are no duplications in the dataset either, so the dataset is pretty clean to move onto visualizations"
   ]
  },
  {
   "cell_type": "code",
   "execution_count": 53,
   "metadata": {},
   "outputs": [
    {
     "data": {
      "text/plain": [
       "<AxesSubplot:>"
      ]
     },
     "execution_count": 53,
     "metadata": {},
     "output_type": "execute_result"
    },
    {
     "data": {
      "image/png": "[encoded data removed]",
      "text/plain": [
       "<Figure size 720x576 with 2 Axes>"
      ]
     },
     "metadata": {
      "needs_background": "light"
     },
     "output_type": "display_data"
    }
   ],
   "source": [
    "#Visualizing correlations between the features using a heatmap\n",
    "df2 = df.drop([\"churn\",\"customer_id\"], axis=1)\n",
    "corr = df2.corr()\n",
    "import seaborn as sns\n",
    "import matplotlib.pyplot as plt\n",
    "\n",
    "plt.figure(figsize=(10,8))\n",
    "sns.heatmap(corr,annot=True,cbar=True, cmap='plasma')"
   ]
  },
  {
   "cell_type": "markdown",
   "metadata": {},
   "source": [
    "- The top three most **positively correlated** values are:\n",
    "    - **age vs. active_member:** 0.085\n",
    "    - **age vs. balance:** 0.028\n",
    "    - **credit_score vs. active_member:** 0.026\n",
    "\n",
    "\n",
    "- The most **negatively correlated** values is:\n",
    "    - **balance vs. products_number:** -0.3"
   ]
  },
  {
   "cell_type": "code",
   "execution_count": 54,
   "metadata": {
    "scrolled": true
   },
   "outputs": [
    {
     "data": {
      "image/png": "[encoded data removed]",
      "text/plain": [
       "<Figure size 432x288 with 1 Axes>"
      ]
     },
     "metadata": {
      "needs_background": "light"
     },
     "output_type": "display_data"
    }
   ],
   "source": [
    "ax = sns.countplot(data = df, x='tenure')\n",
    "ax.set_title(\"Customer Distribution of Tenure\");"
   ]
  },
  {
   "cell_type": "code",
   "execution_count": 55,
   "metadata": {},
   "outputs": [
    {
     "data": {
      "text/plain": [
       "<AxesSubplot:xlabel='country', ylabel='Count'>"
      ]
     },
     "execution_count": 55,
     "metadata": {},
     "output_type": "execute_result"
    },
    {
     "data": {
      "image/png": "[encoded data removed]",
      "text/plain": [
       "<Figure size 432x288 with 1 Axes>"
      ]
     },
     "metadata": {
      "needs_background": "light"
     },
     "output_type": "display_data"
    }
   ],
   "source": [
    "sns.histplot(df['country'])"
   ]
  },
  {
   "cell_type": "code",
   "execution_count": 56,
   "metadata": {},
   "outputs": [
    {
     "data": {
      "image/png": "[encoded data removed]",
      "text/plain": [
       "<Figure size 432x288 with 1 Axes>"
      ]
     },
     "metadata": {
      "needs_background": "light"
     },
     "output_type": "display_data"
    }
   ],
   "source": [
    "ax = sns.histplot(df['balance'])\n",
    "ax.set_title(\"Customer Distribution of Bank Balances\");"
   ]
  },
  {
   "cell_type": "markdown",
   "metadata": {},
   "source": [
    "- Most people have a balance of 0 maybe 20% of the people who churn come from this category"
   ]
  },
  {
   "cell_type": "code",
   "execution_count": 57,
   "metadata": {
    "scrolled": true
   },
   "outputs": [
    {
     "data": {
      "image/png": "[encoded data removed]",
      "text/plain": [
       "<Figure size 432x288 with 1 Axes>"
      ]
     },
     "metadata": {
      "needs_background": "light"
     },
     "output_type": "display_data"
    }
   ],
   "source": [
    "ax = sns.histplot(df['estimated_salary'], bins=25)\n",
    "plt.xticks(rotation=45, ha='right')\n",
    "ax.set_title(\"Customer Distribution of Salary\");"
   ]
  },
  {
   "cell_type": "code",
   "execution_count": 58,
   "metadata": {},
   "outputs": [
    {
     "data": {
      "image/png": "[encoded data removed]",
      "text/plain": [
       "<Figure size 432x288 with 1 Axes>"
      ]
     },
     "metadata": {
      "needs_background": "light"
     },
     "output_type": "display_data"
    }
   ],
   "source": [
    "ax = sns.boxplot(data = df, x='age')\n",
    "ax.set_title(\"Boxplot of Customer Age\");"
   ]
  },
  {
   "cell_type": "markdown",
   "metadata": {},
   "source": [
    "## Modeling\n",
    "\n"
   ]
  },
  {
   "cell_type": "markdown",
   "metadata": {},
   "source": [
    "### Multiple Logistic Regression"
   ]
  },
  {
   "cell_type": "code",
   "execution_count": 59,
   "metadata": {},
   "outputs": [],
   "source": [
    "from sklearn.preprocessing import LabelEncoder\n",
    "\n",
    "df['gender'] = LabelEncoder().fit_transform(df['gender'])\n",
    "df['country'] = LabelEncoder().fit_transform(df['country'])"
   ]
  },
  {
   "cell_type": "code",
   "execution_count": 60,
   "metadata": {},
   "outputs": [],
   "source": [
    "import statsmodels.api as sm\n",
    "\n",
    "X = df[['credit_score','age','tenure','estimated_salary','balance','products_number','active_member','credit_card','gender','country']]\n",
    "X = sm.add_constant(X)\n",
    "y = df['churn']"
   ]
  },
  {
   "cell_type": "code",
   "execution_count": 61,
   "metadata": {},
   "outputs": [
    {
     "name": "stdout",
     "output_type": "stream",
     "text": [
      "                            OLS Regression Results                            \n",
      "==============================================================================\n",
      "Dep. Variable:                  churn   R-squared:                       0.136\n",
      "Model:                            OLS   Adj. R-squared:                  0.136\n",
      "Method:                 Least Squares   F-statistic:                     157.9\n",
      "Date:                Thu, 14 Dec 2023   Prob (F-statistic):          4.68e-309\n",
      "Time:                        21:14:35   Log-Likelihood:                -4361.3\n",
      "No. Observations:               10000   AIC:                             8745.\n",
      "Df Residuals:                    9989   BIC:                             8824.\n",
      "Df Model:                          10                                         \n",
      "Covariance Type:            nonrobust                                         \n",
      "====================================================================================\n",
      "                       coef    std err          t      P>|t|      [0.025      0.975]\n",
      "------------------------------------------------------------------------------------\n",
      "const               -0.1083      0.034     -3.192      0.001      -0.175      -0.042\n",
      "credit_score     -9.333e-05   3.88e-05     -2.408      0.016      -0.000   -1.73e-05\n",
      "age                  0.0113      0.000     31.453      0.000       0.011       0.012\n",
      "tenure              -0.0019      0.001     -1.439      0.150      -0.004       0.001\n",
      "estimated_salary  7.161e-08   6.51e-08      1.099      0.272   -5.61e-08    1.99e-07\n",
      "balance           6.819e-07   6.32e-08     10.788      0.000    5.58e-07    8.06e-07\n",
      "products_number     -0.0047      0.007     -0.698      0.485      -0.018       0.009\n",
      "active_member       -0.1433      0.008    -19.034      0.000      -0.158      -0.129\n",
      "credit_card         -0.0028      0.008     -0.341      0.733      -0.019       0.013\n",
      "gender              -0.0774      0.008    -10.282      0.000      -0.092      -0.063\n",
      "country              0.0116      0.005      2.551      0.011       0.003       0.020\n",
      "==============================================================================\n",
      "Omnibus:                     1510.180   Durbin-Watson:                   1.995\n",
      "Prob(Omnibus):                  0.000   Jarque-Bera (JB):             2312.781\n",
      "Skew:                           1.175   Prob(JB):                         0.00\n",
      "Kurtosis:                       3.175   Cond. No.                     1.27e+06\n",
      "==============================================================================\n",
      "\n",
      "Notes:\n",
      "[1] Standard Errors assume that the covariance matrix of the errors is correctly specified.\n",
      "[2] The condition number is large, 1.27e+06. This might indicate that there are\n",
      "strong multicollinearity or other numerical problems.\n"
     ]
    }
   ],
   "source": [
    "model = sm.OLS(y, X).fit()\n",
    "summary = model.summary()\n",
    "\n",
    "print(summary)"
   ]
  },
  {
   "cell_type": "markdown",
   "metadata": {},
   "source": [
    "###### According to the F-Statistic p-value it seems as though the value is much lower than the set alpha of 0.05, indicating that the model is statistically significant."
   ]
  },
  {
   "cell_type": "markdown",
   "metadata": {},
   "source": [
    "### Comparing Logistic Regression without Dataset Values of Zero Balance"
   ]
  },
  {
   "cell_type": "code",
   "execution_count": 62,
   "metadata": {},
   "outputs": [
    {
     "data": {
      "text/plain": [
       "<AxesSubplot:xlabel='balance', ylabel='Count'>"
      ]
     },
     "execution_count": 62,
     "metadata": {},
     "output_type": "execute_result"
    },
    {
     "data": {
      "image/png": "[encoded data removed]",
      "text/plain": [
       "<Figure size 432x288 with 1 Axes>"
      ]
     },
     "metadata": {
      "needs_background": "light"
     },
     "output_type": "display_data"
    }
   ],
   "source": [
    "df2 = df[df['balance'] != 0].copy()\n",
    "sns.histplot(df2['balance'])"
   ]
  },
  {
   "cell_type": "code",
   "execution_count": 63,
   "metadata": {},
   "outputs": [
    {
     "data": {
      "text/html": [
       "<div>\n",
       "<style scoped>\n",
       "    .dataframe tbody tr th:only-of-type {\n",
       "        vertical-align: middle;\n",
       "    }\n",
       "\n",
       "    .dataframe tbody tr th {\n",
       "        vertical-align: top;\n",
       "    }\n",
       "\n",
       "    .dataframe thead th {\n",
       "        text-align: right;\n",
       "    }\n",
       "</style>\n",
       "<table border=\"1\" class=\"dataframe\">\n",
       "  <thead>\n",
       "    <tr style=\"text-align: right;\">\n",
       "      <th></th>\n",
       "      <th>customer_id</th>\n",
       "      <th>credit_score</th>\n",
       "      <th>country</th>\n",
       "      <th>gender</th>\n",
       "      <th>age</th>\n",
       "      <th>tenure</th>\n",
       "      <th>balance</th>\n",
       "      <th>products_number</th>\n",
       "      <th>credit_card</th>\n",
       "      <th>active_member</th>\n",
       "      <th>estimated_salary</th>\n",
       "      <th>churn</th>\n",
       "    </tr>\n",
       "  </thead>\n",
       "  <tbody>\n",
       "    <tr>\n",
       "      <th>1</th>\n",
       "      <td>15647311</td>\n",
       "      <td>608</td>\n",
       "      <td>2</td>\n",
       "      <td>0</td>\n",
       "      <td>41</td>\n",
       "      <td>1</td>\n",
       "      <td>83807.86</td>\n",
       "      <td>1</td>\n",
       "      <td>0</td>\n",
       "      <td>1</td>\n",
       "      <td>112542.58</td>\n",
       "      <td>0</td>\n",
       "    </tr>\n",
       "    <tr>\n",
       "      <th>2</th>\n",
       "      <td>15619304</td>\n",
       "      <td>502</td>\n",
       "      <td>0</td>\n",
       "      <td>0</td>\n",
       "      <td>42</td>\n",
       "      <td>8</td>\n",
       "      <td>159660.80</td>\n",
       "      <td>3</td>\n",
       "      <td>1</td>\n",
       "      <td>0</td>\n",
       "      <td>113931.57</td>\n",
       "      <td>1</td>\n",
       "    </tr>\n",
       "    <tr>\n",
       "      <th>4</th>\n",
       "      <td>15737888</td>\n",
       "      <td>850</td>\n",
       "      <td>2</td>\n",
       "      <td>0</td>\n",
       "      <td>43</td>\n",
       "      <td>2</td>\n",
       "      <td>125510.82</td>\n",
       "      <td>1</td>\n",
       "      <td>1</td>\n",
       "      <td>1</td>\n",
       "      <td>79084.10</td>\n",
       "      <td>0</td>\n",
       "    </tr>\n",
       "    <tr>\n",
       "      <th>5</th>\n",
       "      <td>15574012</td>\n",
       "      <td>645</td>\n",
       "      <td>2</td>\n",
       "      <td>1</td>\n",
       "      <td>44</td>\n",
       "      <td>8</td>\n",
       "      <td>113755.78</td>\n",
       "      <td>2</td>\n",
       "      <td>1</td>\n",
       "      <td>0</td>\n",
       "      <td>149756.71</td>\n",
       "      <td>1</td>\n",
       "    </tr>\n",
       "    <tr>\n",
       "      <th>7</th>\n",
       "      <td>15656148</td>\n",
       "      <td>376</td>\n",
       "      <td>1</td>\n",
       "      <td>0</td>\n",
       "      <td>29</td>\n",
       "      <td>4</td>\n",
       "      <td>115046.74</td>\n",
       "      <td>4</td>\n",
       "      <td>1</td>\n",
       "      <td>0</td>\n",
       "      <td>119346.88</td>\n",
       "      <td>1</td>\n",
       "    </tr>\n",
       "  </tbody>\n",
       "</table>\n",
       "</div>"
      ],
      "text/plain": [
       "   customer_id  credit_score  country  gender  age  tenure    balance  \\\n",
       "1     15647311           608        2       0   41       1   83807.86   \n",
       "2     15619304           502        0       0   42       8  159660.80   \n",
       "4     15737888           850        2       0   43       2  125510.82   \n",
       "5     15574012           645        2       1   44       8  113755.78   \n",
       "7     15656148           376        1       0   29       4  115046.74   \n",
       "\n",
       "   products_number  credit_card  active_member  estimated_salary  churn  \n",
       "1                1            0              1         112542.58      0  \n",
       "2                3            1              0         113931.57      1  \n",
       "4                1            1              1          79084.10      0  \n",
       "5                2            1              0         149756.71      1  \n",
       "7                4            1              0         119346.88      1  "
      ]
     },
     "execution_count": 63,
     "metadata": {},
     "output_type": "execute_result"
    }
   ],
   "source": [
    "df2.head()"
   ]
  },
  {
   "cell_type": "code",
   "execution_count": 64,
   "metadata": {},
   "outputs": [
    {
     "name": "stdout",
     "output_type": "stream",
     "text": [
      "                            OLS Regression Results                            \n",
      "==============================================================================\n",
      "Dep. Variable:                  churn   R-squared:                       0.145\n",
      "Model:                            OLS   Adj. R-squared:                  0.144\n",
      "Method:                 Least Squares   F-statistic:                     108.0\n",
      "Date:                Thu, 14 Dec 2023   Prob (F-statistic):          3.79e-208\n",
      "Time:                        21:14:59   Log-Likelihood:                -3134.0\n",
      "No. Observations:                6383   AIC:                             6290.\n",
      "Df Residuals:                    6372   BIC:                             6364.\n",
      "Df Model:                          10                                         \n",
      "Covariance Type:            nonrobust                                         \n",
      "====================================================================================\n",
      "                       coef    std err          t      P>|t|      [0.025      0.975]\n",
      "------------------------------------------------------------------------------------\n",
      "const               -0.1782      0.048     -3.725      0.000      -0.272      -0.084\n",
      "credit_score        -0.0001   5.11e-05     -1.968      0.049      -0.000   -4.12e-07\n",
      "age                  0.0126      0.000     26.651      0.000       0.012       0.014\n",
      "tenure              -0.0017      0.002     -0.979      0.328      -0.005       0.002\n",
      "estimated_salary  3.094e-08   8.64e-08      0.358      0.720   -1.38e-07       2e-07\n",
      "balance           2.838e-07   1.65e-07      1.723      0.085   -3.91e-08    6.07e-07\n",
      "products_number      0.0514      0.009      5.980      0.000       0.035       0.068\n",
      "active_member       -0.1607      0.010    -16.146      0.000      -0.180      -0.141\n",
      "credit_card          0.0012      0.011      0.113      0.910      -0.020       0.022\n",
      "gender              -0.0844      0.010     -8.467      0.000      -0.104      -0.065\n",
      "country              0.0212      0.007      3.206      0.001       0.008       0.034\n",
      "==============================================================================\n",
      "Omnibus:                      752.312   Durbin-Watson:                   2.020\n",
      "Prob(Omnibus):                  0.000   Jarque-Bera (JB):             1012.504\n",
      "Skew:                           0.963   Prob(JB):                    1.37e-220\n",
      "Kurtosis:                       2.685   Cond. No.                     1.57e+06\n",
      "==============================================================================\n",
      "\n",
      "Notes:\n",
      "[1] Standard Errors assume that the covariance matrix of the errors is correctly specified.\n",
      "[2] The condition number is large, 1.57e+06. This might indicate that there are\n",
      "strong multicollinearity or other numerical problems.\n"
     ]
    }
   ],
   "source": [
    "df2['gender'] = LabelEncoder().fit_transform(df2['gender'])\n",
    "df2['country'] = LabelEncoder().fit_transform(df2['country'])\n",
    "\n",
    "X2 = df2[['credit_score','age','tenure','estimated_salary','balance','products_number','active_member','credit_card','gender','country']]\n",
    "X2 = sm.add_constant(X2)\n",
    "y2 = df2['churn']\n",
    "\n",
    "model = sm.OLS(y2, X2).fit()\n",
    "summary = model.summary()\n",
    "\n",
    "print(summary)"
   ]
  },
  {
   "cell_type": "markdown",
   "metadata": {},
   "source": [
    "- The R-Squared value for the logistic regression of data without the balance of zero is higher than with the data that included the zero balance.\n",
    "- 0.145 as an R Squared value is still pretty low and indicates there are more independent variables beyond the scope of the dataset that influences the variance of the churn.\n",
    "- The probability of F-statistic is still lower than the alpha value of 0.05 indicating that this model is still significant.\n",
    "\n",
    "**We are going to move forward with our analysis to exclude customers with zero balance. From a business understanding perspective, we believe that there isn't a chance for banks to make a profit from customers who do not have any contributions to the bank. However, for future analysis, this would be a great opportunity to see why there are so many customers with a zero balance.**"
   ]
  },
  {
   "cell_type": "code",
   "execution_count": 65,
   "metadata": {},
   "outputs": [
    {
     "data": {
      "text/plain": [
       "(6383, 12)"
      ]
     },
     "execution_count": 65,
     "metadata": {},
     "output_type": "execute_result"
    }
   ],
   "source": [
    "df2.shape"
   ]
  },
  {
   "cell_type": "code",
   "execution_count": 66,
   "metadata": {},
   "outputs": [
    {
     "data": {
      "text/plain": [
       "3617"
      ]
     },
     "execution_count": 66,
     "metadata": {},
     "output_type": "execute_result"
    }
   ],
   "source": [
    "#How many customers had zero balance in their accounts?\n",
    "10000-6383"
   ]
  },
  {
   "cell_type": "markdown",
   "metadata": {},
   "source": [
    "### Feature Importance"
   ]
  },
  {
   "cell_type": "code",
   "execution_count": 67,
   "metadata": {},
   "outputs": [],
   "source": [
    "import statsmodels.api as sm\n",
    "\n",
    "# plotting\n",
    "import matplotlib.pyplot as plt\n",
    "\n",
    "# sklearn\n",
    "from sklearn.preprocessing import LabelEncoder\n",
    "from sklearn.model_selection import train_test_split\n",
    "from sklearn.ensemble import RandomForestClassifier\n",
    "from sklearn.ensemble import GradientBoostingClassifier\n",
    "from sklearn.linear_model import LogisticRegression\n",
    "from sklearn.metrics import (accuracy_score, confusion_matrix, ConfusionMatrixDisplay, classification_report, roc_curve, \n",
    "                             roc_auc_score)"
   ]
  },
  {
   "cell_type": "code",
   "execution_count": 68,
   "metadata": {
    "scrolled": true
   },
   "outputs": [],
   "source": [
    "df2['gender'] = LabelEncoder().fit_transform(df2['gender'])\n",
    "df2['country'] = LabelEncoder().fit_transform(df2['country'])\n",
    "\n",
    "X = df2.drop(['customer_id','churn'], axis=1)\n",
    "y = df2['churn']\n",
    "\n",
    "X_train, X_test, y_train, y_test = train_test_split(X, y, test_size=0.33, random_state=0)"
   ]
  },
  {
   "cell_type": "code",
   "execution_count": 71,
   "metadata": {},
   "outputs": [
    {
     "name": "stdout",
     "output_type": "stream",
     "text": [
      "Optimization terminated successfully.\n",
      "         Current function value: 0.476947\n",
      "         Iterations 6\n"
     ]
    }
   ],
   "source": [
    "# Create intercept term required for sm.Logit, see documentation for more information\n",
    "X = sm.add_constant(X)\n",
    "\n",
    "# Fit model\n",
    "logit_model = sm.Logit(y, X)\n",
    "\n",
    "# Get results of the fit\n",
    "result = logit_model.fit()"
   ]
  },
  {
   "cell_type": "code",
   "execution_count": 72,
   "metadata": {},
   "outputs": [
    {
     "data": {
      "text/html": [
       "<table class=\"simpletable\">\n",
       "<caption>Logit Regression Results</caption>\n",
       "<tr>\n",
       "  <th>Dep. Variable:</th>         <td>churn</td>      <th>  No. Observations:  </th>   <td>  6383</td>  \n",
       "</tr>\n",
       "<tr>\n",
       "  <th>Model:</th>                 <td>Logit</td>      <th>  Df Residuals:      </th>   <td>  6372</td>  \n",
       "</tr>\n",
       "<tr>\n",
       "  <th>Method:</th>                 <td>MLE</td>       <th>  Df Model:          </th>   <td>    10</td>  \n",
       "</tr>\n",
       "<tr>\n",
       "  <th>Date:</th>            <td>Thu, 14 Dec 2023</td> <th>  Pseudo R-squ.:     </th>   <td>0.1360</td>  \n",
       "</tr>\n",
       "<tr>\n",
       "  <th>Time:</th>                <td>21:31:06</td>     <th>  Log-Likelihood:    </th>  <td> -3044.4</td> \n",
       "</tr>\n",
       "<tr>\n",
       "  <th>converged:</th>             <td>True</td>       <th>  LL-Null:           </th>  <td> -3523.4</td> \n",
       "</tr>\n",
       "<tr>\n",
       "  <th>Covariance Type:</th>     <td>nonrobust</td>    <th>  LLR p-value:       </th> <td>2.010e-199</td>\n",
       "</tr>\n",
       "</table>\n",
       "<table class=\"simpletable\">\n",
       "<tr>\n",
       "          <td></td>            <th>coef</th>     <th>std err</th>      <th>z</th>      <th>P>|z|</th>  <th>[0.025</th>    <th>0.975]</th>  \n",
       "</tr>\n",
       "<tr>\n",
       "  <th>const</th>            <td>   -3.7435</td> <td>    0.309</td> <td>  -12.104</td> <td> 0.000</td> <td>   -4.350</td> <td>   -3.137</td>\n",
       "</tr>\n",
       "<tr>\n",
       "  <th>credit_score</th>     <td>   -0.0006</td> <td>    0.000</td> <td>   -1.883</td> <td> 0.060</td> <td>   -0.001</td> <td> 2.53e-05</td>\n",
       "</tr>\n",
       "<tr>\n",
       "  <th>country</th>          <td>    0.1377</td> <td>    0.043</td> <td>    3.227</td> <td> 0.001</td> <td>    0.054</td> <td>    0.221</td>\n",
       "</tr>\n",
       "<tr>\n",
       "  <th>gender</th>           <td>   -0.5197</td> <td>    0.064</td> <td>   -8.149</td> <td> 0.000</td> <td>   -0.645</td> <td>   -0.395</td>\n",
       "</tr>\n",
       "<tr>\n",
       "  <th>age</th>              <td>    0.0739</td> <td>    0.003</td> <td>   23.901</td> <td> 0.000</td> <td>    0.068</td> <td>    0.080</td>\n",
       "</tr>\n",
       "<tr>\n",
       "  <th>tenure</th>           <td>   -0.0101</td> <td>    0.011</td> <td>   -0.925</td> <td> 0.355</td> <td>   -0.032</td> <td>    0.011</td>\n",
       "</tr>\n",
       "<tr>\n",
       "  <th>balance</th>          <td> 1.835e-06</td> <td> 1.06e-06</td> <td>    1.729</td> <td> 0.084</td> <td>-2.45e-07</td> <td> 3.91e-06</td>\n",
       "</tr>\n",
       "<tr>\n",
       "  <th>products_number</th>  <td>    0.3045</td> <td>    0.052</td> <td>    5.832</td> <td> 0.000</td> <td>    0.202</td> <td>    0.407</td>\n",
       "</tr>\n",
       "<tr>\n",
       "  <th>credit_card</th>      <td>   -0.0050</td> <td>    0.069</td> <td>   -0.072</td> <td> 0.943</td> <td>   -0.141</td> <td>    0.131</td>\n",
       "</tr>\n",
       "<tr>\n",
       "  <th>active_member</th>    <td>   -1.0649</td> <td>    0.067</td> <td>  -15.900</td> <td> 0.000</td> <td>   -1.196</td> <td>   -0.934</td>\n",
       "</tr>\n",
       "<tr>\n",
       "  <th>estimated_salary</th> <td> 1.631e-07</td> <td> 5.57e-07</td> <td>    0.293</td> <td> 0.770</td> <td>-9.28e-07</td> <td> 1.25e-06</td>\n",
       "</tr>\n",
       "</table>"
      ],
      "text/plain": [
       "<class 'statsmodels.iolib.summary.Summary'>\n",
       "\"\"\"\n",
       "                           Logit Regression Results                           \n",
       "==============================================================================\n",
       "Dep. Variable:                  churn   No. Observations:                 6383\n",
       "Model:                          Logit   Df Residuals:                     6372\n",
       "Method:                           MLE   Df Model:                           10\n",
       "Date:                Thu, 14 Dec 2023   Pseudo R-squ.:                  0.1360\n",
       "Time:                        21:31:06   Log-Likelihood:                -3044.4\n",
       "converged:                       True   LL-Null:                       -3523.4\n",
       "Covariance Type:            nonrobust   LLR p-value:                2.010e-199\n",
       "====================================================================================\n",
       "                       coef    std err          z      P>|z|      [0.025      0.975]\n",
       "------------------------------------------------------------------------------------\n",
       "const               -3.7435      0.309    -12.104      0.000      -4.350      -3.137\n",
       "credit_score        -0.0006      0.000     -1.883      0.060      -0.001    2.53e-05\n",
       "country              0.1377      0.043      3.227      0.001       0.054       0.221\n",
       "gender              -0.5197      0.064     -8.149      0.000      -0.645      -0.395\n",
       "age                  0.0739      0.003     23.901      0.000       0.068       0.080\n",
       "tenure              -0.0101      0.011     -0.925      0.355      -0.032       0.011\n",
       "balance           1.835e-06   1.06e-06      1.729      0.084   -2.45e-07    3.91e-06\n",
       "products_number      0.3045      0.052      5.832      0.000       0.202       0.407\n",
       "credit_card         -0.0050      0.069     -0.072      0.943      -0.141       0.131\n",
       "active_member       -1.0649      0.067    -15.900      0.000      -1.196      -0.934\n",
       "estimated_salary  1.631e-07   5.57e-07      0.293      0.770   -9.28e-07    1.25e-06\n",
       "====================================================================================\n",
       "\"\"\""
      ]
     },
     "execution_count": 72,
     "metadata": {},
     "output_type": "execute_result"
    }
   ],
   "source": [
    "result.summary()"
   ]
  },
  {
   "cell_type": "markdown",
   "metadata": {},
   "source": [
    "With the default alpha value being 0.05, the table above tells us that credit_score, tenure, balance, credit_card, and estimated_salary are NOT significant features for churn. This leaves: country, gender, age, products_number, and active_member."
   ]
  },
  {
   "cell_type": "code",
   "execution_count": 117,
   "metadata": {},
   "outputs": [
    {
     "name": "stderr",
     "output_type": "stream",
     "text": [
      "C:\\Users\\sashahid\\AppData\\Local\\anaconda3\\envs\\learn-env\\lib\\site-packages\\sklearn\\ensemble\\_forest.py:540: UserWarning: Some inputs do not have OOB scores. This probably means too few trees were used to compute any reliable oob estimates.\n",
      "  warn(\"Some inputs do not have OOB scores. \"\n",
      "C:\\Users\\sashahid\\AppData\\Local\\anaconda3\\envs\\learn-env\\lib\\site-packages\\sklearn\\ensemble\\_forest.py:544: RuntimeWarning: invalid value encountered in true_divide\n",
      "  decision = (predictions[k] /\n",
      "C:\\Users\\sashahid\\AppData\\Local\\anaconda3\\envs\\learn-env\\lib\\site-packages\\sklearn\\ensemble\\_forest.py:540: UserWarning: Some inputs do not have OOB scores. This probably means too few trees were used to compute any reliable oob estimates.\n",
      "  warn(\"Some inputs do not have OOB scores. \"\n",
      "C:\\Users\\sashahid\\AppData\\Local\\anaconda3\\envs\\learn-env\\lib\\site-packages\\sklearn\\ensemble\\_forest.py:544: RuntimeWarning: invalid value encountered in true_divide\n",
      "  decision = (predictions[k] /\n"
     ]
    },
    {
     "data": {
      "text/plain": [
       "Text(0.5, 1.0, 'Out-of-Bag Error')"
      ]
     },
     "execution_count": 117,
     "metadata": {},
     "output_type": "execute_result"
    },
    {
     "data": {
      "image/png": "[encoded data removed]",
      "text/plain": [
       "<Figure size 864x360 with 1 Axes>"
      ]
     },
     "metadata": {
      "needs_background": "light"
     },
     "output_type": "display_data"
    }
   ],
   "source": [
    "trees = np.linspace(10, 200, 20, dtype=np.int16)\n",
    "\n",
    "OOB_Score = []\n",
    "for num_trees in trees:\n",
    "    rf = RandomForestClassifier(n_estimators=num_trees, warm_start=True, oob_score=True).fit(X_train, y_train)\n",
    "    OOB_Score.append(1-rf.oob_score_)\n",
    "    \n",
    "fig, ax = plt.subplots(figsize=(12,5))\n",
    "ax.plot(trees, OOB_Score, '-*')\n",
    "ax.set_xlabel('Trees')\n",
    "ax.set_ylabel('Error')\n",
    "ax.set_title('Out-of-Bag Error')"
   ]
  },
  {
   "cell_type": "code",
   "execution_count": 118,
   "metadata": {},
   "outputs": [],
   "source": [
    "rf = RandomForestClassifier(n_estimators=200).fit(X_train, y_train)"
   ]
  },
  {
   "cell_type": "code",
   "execution_count": 119,
   "metadata": {},
   "outputs": [
    {
     "name": "stdout",
     "output_type": "stream",
     "text": [
      "Accuracy of Random Forest 0.8410061699098244\n"
     ]
    }
   ],
   "source": [
    "rf_accuracy = accuracy_score(y_test, rf.predict(X_test))\n",
    "print('Accuracy of Random Forest', rf_accuracy)"
   ]
  },
  {
   "cell_type": "code",
   "execution_count": 120,
   "metadata": {},
   "outputs": [
    {
     "data": {
      "text/plain": [
       "<AxesSubplot:>"
      ]
     },
     "execution_count": 120,
     "metadata": {},
     "output_type": "execute_result"
    },
    {
     "data": {
      "image/png": "[encoded data removed]",
      "text/plain": [
       "<Figure size 576x576 with 1 Axes>"
      ]
     },
     "metadata": {
      "needs_background": "light"
     },
     "output_type": "display_data"
    }
   ],
   "source": [
    "forest_importances = pd.Series(rf.feature_importances_, index=X_train.columns)\n",
    "fig, ax = plt.subplots(figsize=(8,8))\n",
    "forest_importances.sort_values().plot.barh(ax=ax)"
   ]
  },
  {
   "cell_type": "markdown",
   "metadata": {},
   "source": [
    "- Interestingly enough it doesn't seem as though being an active member is as an important feature as we thought\n",
    "- Let's take a deeper dive into these features"
   ]
  },
  {
   "cell_type": "code",
   "execution_count": 121,
   "metadata": {},
   "outputs": [
    {
     "data": {
      "text/html": [
       "<div>\n",
       "<style scoped>\n",
       "    .dataframe tbody tr th:only-of-type {\n",
       "        vertical-align: middle;\n",
       "    }\n",
       "\n",
       "    .dataframe tbody tr th {\n",
       "        vertical-align: top;\n",
       "    }\n",
       "\n",
       "    .dataframe thead th {\n",
       "        text-align: right;\n",
       "    }\n",
       "</style>\n",
       "<table border=\"1\" class=\"dataframe\">\n",
       "  <thead>\n",
       "    <tr style=\"text-align: right;\">\n",
       "      <th>age</th>\n",
       "      <th>(15, 20]</th>\n",
       "      <th>(20, 25]</th>\n",
       "      <th>(25, 30]</th>\n",
       "      <th>(30, 35]</th>\n",
       "      <th>(35, 40]</th>\n",
       "      <th>(40, 45]</th>\n",
       "      <th>(45, 50]</th>\n",
       "      <th>(50, 55]</th>\n",
       "      <th>(55, 60]</th>\n",
       "      <th>(60, 65]</th>\n",
       "      <th>(65, 70]</th>\n",
       "      <th>(70, 75]</th>\n",
       "      <th>(75, 80]</th>\n",
       "      <th>(80, 85]</th>\n",
       "      <th>(85, 90]</th>\n",
       "      <th>(90, 95]</th>\n",
       "    </tr>\n",
       "    <tr>\n",
       "      <th>churn</th>\n",
       "      <th></th>\n",
       "      <th></th>\n",
       "      <th></th>\n",
       "      <th></th>\n",
       "      <th></th>\n",
       "      <th></th>\n",
       "      <th></th>\n",
       "      <th></th>\n",
       "      <th></th>\n",
       "      <th></th>\n",
       "      <th></th>\n",
       "      <th></th>\n",
       "      <th></th>\n",
       "      <th></th>\n",
       "      <th></th>\n",
       "      <th></th>\n",
       "    </tr>\n",
       "  </thead>\n",
       "  <tbody>\n",
       "    <tr>\n",
       "      <th>0</th>\n",
       "      <td>0.0084</td>\n",
       "      <td>0.0481</td>\n",
       "      <td>0.1255</td>\n",
       "      <td>0.1986</td>\n",
       "      <td>0.1927</td>\n",
       "      <td>0.1076</td>\n",
       "      <td>0.0456</td>\n",
       "      <td>0.0192</td>\n",
       "      <td>0.0157</td>\n",
       "      <td>0.012</td>\n",
       "      <td>0.0107</td>\n",
       "      <td>0.0078</td>\n",
       "      <td>0.0033</td>\n",
       "      <td>0.0008</td>\n",
       "      <td>0.0001</td>\n",
       "      <td>0.0002</td>\n",
       "    </tr>\n",
       "    <tr>\n",
       "      <th>1</th>\n",
       "      <td>0.0005</td>\n",
       "      <td>0.0041</td>\n",
       "      <td>0.0102</td>\n",
       "      <td>0.0199</td>\n",
       "      <td>0.0339</td>\n",
       "      <td>0.0394</td>\n",
       "      <td>0.0394</td>\n",
       "      <td>0.0269</td>\n",
       "      <td>0.0179</td>\n",
       "      <td>0.008</td>\n",
       "      <td>0.0024</td>\n",
       "      <td>0.0010</td>\n",
       "      <td>0.0000</td>\n",
       "      <td>0.0001</td>\n",
       "      <td>0.0000</td>\n",
       "      <td>0.0000</td>\n",
       "    </tr>\n",
       "  </tbody>\n",
       "</table>\n",
       "</div>"
      ],
      "text/plain": [
       "age    (15, 20]  (20, 25]  (25, 30]  (30, 35]  (35, 40]  (40, 45]  (45, 50]  \\\n",
       "churn                                                                         \n",
       "0        0.0084    0.0481    0.1255    0.1986    0.1927    0.1076    0.0456   \n",
       "1        0.0005    0.0041    0.0102    0.0199    0.0339    0.0394    0.0394   \n",
       "\n",
       "age    (50, 55]  (55, 60]  (60, 65]  (65, 70]  (70, 75]  (75, 80]  (80, 85]  \\\n",
       "churn                                                                         \n",
       "0        0.0192    0.0157     0.012    0.0107    0.0078    0.0033    0.0008   \n",
       "1        0.0269    0.0179     0.008    0.0024    0.0010    0.0000    0.0001   \n",
       "\n",
       "age    (85, 90]  (90, 95]  \n",
       "churn                      \n",
       "0        0.0001    0.0002  \n",
       "1        0.0000    0.0000  "
      ]
     },
     "execution_count": 121,
     "metadata": {},
     "output_type": "execute_result"
    }
   ],
   "source": [
    "bins = [15, 20, 25, 30, 35, 40, 45, 50 , 55, 60, 65, 70, 75, 80, 85, 90, 95]\n",
    "pd.crosstab(df['churn'], pd.cut(df['age'], bins), normalize=True)"
   ]
  },
  {
   "cell_type": "code",
   "execution_count": 122,
   "metadata": {},
   "outputs": [
    {
     "data": {
      "text/plain": [
       "<AxesSubplot:xlabel='estimated_salary', ylabel='Count'>"
      ]
     },
     "execution_count": 122,
     "metadata": {},
     "output_type": "execute_result"
    },
    {
     "data": {
      "image/png": "[encoded data removed]",
      "text/plain": [
       "<Figure size 432x288 with 1 Axes>"
      ]
     },
     "metadata": {
      "needs_background": "light"
     },
     "output_type": "display_data"
    }
   ],
   "source": [
    "sns.histplot(x = \"estimated_salary\", hue = \"churn\", data = df,bins = 15, palette = \"Set1\", hue_order = [1,0])"
   ]
  },
  {
   "cell_type": "markdown",
   "metadata": {},
   "source": [
    "- There doesn't seem to be a specific trend to churn when it comes to estimated salary"
   ]
  },
  {
   "cell_type": "code",
   "execution_count": 123,
   "metadata": {},
   "outputs": [
    {
     "data": {
      "image/png": "[encoded data removed]",
      "text/plain": [
       "<Figure size 432x288 with 1 Axes>"
      ]
     },
     "metadata": {
      "needs_background": "light"
     },
     "output_type": "display_data"
    }
   ],
   "source": [
    "sns.histplot(x = \"credit_score\", hue = \"churn\", data = df,bins = 15, palette = \"Set1\", hue_order = [1,0]);"
   ]
  },
  {
   "cell_type": "code",
   "execution_count": 124,
   "metadata": {},
   "outputs": [
    {
     "data": {
      "image/png": "[encoded data removed]",
      "text/plain": [
       "<Figure size 432x288 with 1 Axes>"
      ]
     },
     "metadata": {
      "needs_background": "light"
     },
     "output_type": "display_data"
    }
   ],
   "source": [
    "#With values with balance of zero included\n",
    "sns.histplot(x = \"balance\", hue = \"churn\", data = df,bins = 15, palette = \"Set1\", hue_order = [1,0]);"
   ]
  },
  {
   "cell_type": "code",
   "execution_count": 125,
   "metadata": {},
   "outputs": [
    {
     "data": {
      "image/png": "[encoded data removed]",
      "text/plain": [
       "<Figure size 432x288 with 1 Axes>"
      ]
     },
     "metadata": {
      "needs_background": "light"
     },
     "output_type": "display_data"
    }
   ],
   "source": [
    "#Excluded datapoints with balance of zero\n",
    "sns.histplot(x = \"balance\", hue = \"churn\", data = df2,bins = 15, palette = \"Set1\", hue_order = [1,0]);"
   ]
  },
  {
   "cell_type": "markdown",
   "metadata": {},
   "source": [
    "### Modelling + Accuracy Scoring"
   ]
  },
  {
   "cell_type": "code",
   "execution_count": 126,
   "metadata": {},
   "outputs": [],
   "source": [
    "from sklearn.model_selection import train_test_split"
   ]
  },
  {
   "cell_type": "code",
   "execution_count": 127,
   "metadata": {},
   "outputs": [],
   "source": [
    "#Encoding categorical labels for modelling\n",
    "\n",
    "from sklearn.preprocessing import LabelEncoder\n",
    "\n",
    "df2['gender'] = LabelEncoder().fit_transform(df2['gender'])\n",
    "df2['country'] = LabelEncoder().fit_transform(df2['country'])\n",
    "\n",
    "X = df2.drop(['customer_id','churn'], axis=1)\n",
    "y = df2['churn']"
   ]
  },
  {
   "cell_type": "code",
   "execution_count": 128,
   "metadata": {},
   "outputs": [],
   "source": [
    "X_train, X_test, y_train, y_test = train_test_split(X, y, test_size=0.2, random_state=42)"
   ]
  },
  {
   "cell_type": "code",
   "execution_count": 129,
   "metadata": {},
   "outputs": [],
   "source": [
    "#Standardize x_train and x_test values for modelling\n",
    "from sklearn.preprocessing import StandardScaler\n",
    "\n",
    "sc = StandardScaler()\n",
    "\n",
    "X_train = sc.fit_transform(X_train)\n",
    "X_test = sc.fit_transform(X_test)"
   ]
  },
  {
   "cell_type": "code",
   "execution_count": 130,
   "metadata": {},
   "outputs": [
    {
     "name": "stdout",
     "output_type": "stream",
     "text": [
      "Logistic Regression Accuracy : 0.7807361002349256 \n",
      "Decision Tree Accuracy : 0.7744714173844949 \n",
      "Random Forest Accuracy : 0.8402505873140172 \n"
     ]
    }
   ],
   "source": [
    "#Model Training for Logistic Regression, Decision Tree, and Random Forest\n",
    "\n",
    "from sklearn.linear_model import LogisticRegression as LR\n",
    "from sklearn.tree import DecisionTreeClassifier as DT\n",
    "from sklearn.ensemble  import RandomForestClassifier as RF\n",
    "from sklearn.metrics import accuracy_score\n",
    "\n",
    "#Creating a dictionary of models with their names\n",
    "models = {'Logistic Regression':LR(), \n",
    "          'Decision Tree':DT(),\n",
    "          'Random Forest': RF()}\n",
    "\n",
    "for name, model in models.items():\n",
    "    model.fit(X_train,y_train)\n",
    "    y_pred = model.predict(X_test)\n",
    "    print(f\"{name} Accuracy : {accuracy_score(y_test,y_pred)} \")"
   ]
  },
  {
   "cell_type": "markdown",
   "metadata": {},
   "source": [
    "- According to what we found, amongst the three models Random Forest Classifier has the highest accuracy. While it isn't as close to 1 it is a reasonable value of at least 85% accuracy for our model"
   ]
  },
  {
   "cell_type": "code",
   "execution_count": 131,
   "metadata": {},
   "outputs": [],
   "source": [
    "rf = RandomForestClassifier()\n",
    "rf.fit(X_train,y_train)\n",
    "y_pred = model.predict_proba(X_test)\n",
    "\n",
    "\n",
    "def prediction(credit_score,country,gender,age,tenure,balance,products_number,credit_card,active_member,estimated_salary):\n",
    "    features = np.array([[credit_score,country,gender,age,tenure,balance,products_number,credit_card,active_member,estimated_salary]])\n",
    "    features = sc.fit_transform(features)\n",
    "    prediction = rf.predict(features).reshape(1,-1)\n",
    "    return prediction[0]"
   ]
  },
  {
   "cell_type": "code",
   "execution_count": 132,
   "metadata": {},
   "outputs": [
    {
     "data": {
      "text/html": [
       "<div>\n",
       "<style scoped>\n",
       "    .dataframe tbody tr th:only-of-type {\n",
       "        vertical-align: middle;\n",
       "    }\n",
       "\n",
       "    .dataframe tbody tr th {\n",
       "        vertical-align: top;\n",
       "    }\n",
       "\n",
       "    .dataframe thead th {\n",
       "        text-align: right;\n",
       "    }\n",
       "</style>\n",
       "<table border=\"1\" class=\"dataframe\">\n",
       "  <thead>\n",
       "    <tr style=\"text-align: right;\">\n",
       "      <th></th>\n",
       "      <th>customer_id</th>\n",
       "      <th>credit_score</th>\n",
       "      <th>country</th>\n",
       "      <th>gender</th>\n",
       "      <th>age</th>\n",
       "      <th>tenure</th>\n",
       "      <th>balance</th>\n",
       "      <th>products_number</th>\n",
       "      <th>credit_card</th>\n",
       "      <th>active_member</th>\n",
       "      <th>estimated_salary</th>\n",
       "      <th>churn</th>\n",
       "    </tr>\n",
       "  </thead>\n",
       "  <tbody>\n",
       "    <tr>\n",
       "      <th>0</th>\n",
       "      <td>15634602</td>\n",
       "      <td>619</td>\n",
       "      <td>0</td>\n",
       "      <td>0</td>\n",
       "      <td>42</td>\n",
       "      <td>2</td>\n",
       "      <td>0.00</td>\n",
       "      <td>1</td>\n",
       "      <td>1</td>\n",
       "      <td>1</td>\n",
       "      <td>101348.88</td>\n",
       "      <td>1</td>\n",
       "    </tr>\n",
       "    <tr>\n",
       "      <th>1</th>\n",
       "      <td>15647311</td>\n",
       "      <td>608</td>\n",
       "      <td>2</td>\n",
       "      <td>0</td>\n",
       "      <td>41</td>\n",
       "      <td>1</td>\n",
       "      <td>83807.86</td>\n",
       "      <td>1</td>\n",
       "      <td>0</td>\n",
       "      <td>1</td>\n",
       "      <td>112542.58</td>\n",
       "      <td>0</td>\n",
       "    </tr>\n",
       "    <tr>\n",
       "      <th>2</th>\n",
       "      <td>15619304</td>\n",
       "      <td>502</td>\n",
       "      <td>0</td>\n",
       "      <td>0</td>\n",
       "      <td>42</td>\n",
       "      <td>8</td>\n",
       "      <td>159660.80</td>\n",
       "      <td>3</td>\n",
       "      <td>1</td>\n",
       "      <td>0</td>\n",
       "      <td>113931.57</td>\n",
       "      <td>1</td>\n",
       "    </tr>\n",
       "    <tr>\n",
       "      <th>3</th>\n",
       "      <td>15701354</td>\n",
       "      <td>699</td>\n",
       "      <td>0</td>\n",
       "      <td>0</td>\n",
       "      <td>39</td>\n",
       "      <td>1</td>\n",
       "      <td>0.00</td>\n",
       "      <td>2</td>\n",
       "      <td>0</td>\n",
       "      <td>0</td>\n",
       "      <td>93826.63</td>\n",
       "      <td>0</td>\n",
       "    </tr>\n",
       "    <tr>\n",
       "      <th>4</th>\n",
       "      <td>15737888</td>\n",
       "      <td>850</td>\n",
       "      <td>2</td>\n",
       "      <td>0</td>\n",
       "      <td>43</td>\n",
       "      <td>2</td>\n",
       "      <td>125510.82</td>\n",
       "      <td>1</td>\n",
       "      <td>1</td>\n",
       "      <td>1</td>\n",
       "      <td>79084.10</td>\n",
       "      <td>0</td>\n",
       "    </tr>\n",
       "  </tbody>\n",
       "</table>\n",
       "</div>"
      ],
      "text/plain": [
       "   customer_id  credit_score  country  gender  age  tenure    balance  \\\n",
       "0     15634602           619        0       0   42       2       0.00   \n",
       "1     15647311           608        2       0   41       1   83807.86   \n",
       "2     15619304           502        0       0   42       8  159660.80   \n",
       "3     15701354           699        0       0   39       1       0.00   \n",
       "4     15737888           850        2       0   43       2  125510.82   \n",
       "\n",
       "   products_number  credit_card  active_member  estimated_salary  churn  \n",
       "0                1            1              1         101348.88      1  \n",
       "1                1            0              1         112542.58      0  \n",
       "2                3            1              0         113931.57      1  \n",
       "3                2            0              0          93826.63      0  \n",
       "4                1            1              1          79084.10      0  "
      ]
     },
     "execution_count": 132,
     "metadata": {},
     "output_type": "execute_result"
    }
   ],
   "source": [
    "df.head()"
   ]
  },
  {
   "cell_type": "code",
   "execution_count": 133,
   "metadata": {},
   "outputs": [
    {
     "name": "stdout",
     "output_type": "stream",
     "text": [
      "Still a bank customer\n"
     ]
    }
   ],
   "source": [
    "credit_score = 699\n",
    "country = 0\n",
    "gender = 0\n",
    "age= 39\n",
    "tenure= 1\n",
    "balance = 0.00\n",
    "products_number= 2\n",
    "credit_card = 0\n",
    "active_member = 0\n",
    "estimated_salary = 93826.63\n",
    "\n",
    "pred  = prediction(credit_score,country,gender,age,tenure,balance,products_number,credit_card,active_member,estimated_salary)\n",
    "\n",
    "if pred == 1:\n",
    "    print(\"No longer a bank customer\")\n",
    "else:\n",
    "    print(\"Still a bank customer\")"
   ]
  },
  {
   "cell_type": "markdown",
   "metadata": {},
   "source": [
    "### Abby's Code"
   ]
  },
  {
   "cell_type": "code",
   "execution_count": 134,
   "metadata": {},
   "outputs": [
    {
     "name": "stdout",
     "output_type": "stream",
     "text": [
      "[0.14790713 0.24507355 0.12697435 ... 0.26354972 0.16314917 0.11592933]\n"
     ]
    }
   ],
   "source": [
    "lrmodel = LR().fit(X_train,y_train)\n",
    "predicted_probabilities = lrmodel.predict_proba(X_test)\n",
    "print(predicted_probabilities[:,1])\n",
    "#append predicted probabilities in new df and sort by highest probability in descending order, gives us customer most likely to churn"
   ]
  },
  {
   "cell_type": "code",
   "execution_count": 135,
   "metadata": {},
   "outputs": [
    {
     "name": "stdout",
     "output_type": "stream",
     "text": [
      "Predicted Probabilities:\n",
      "['0.85', '0.15']\n",
      "['0.75', '0.25']\n",
      "['0.87', '0.13']\n",
      "['0.90', '0.10']\n",
      "['0.92', '0.08']\n",
      "['0.85', '0.15']\n",
      "['0.75', '0.25']\n",
      "['0.71', '0.29']\n",
      "['0.85', '0.15']\n",
      "['0.95', '0.05']\n",
      "['0.84', '0.16']\n",
      "['0.90', '0.10']\n",
      "['0.86', '0.14']\n",
      "['0.84', '0.16']\n",
      "['0.79', '0.21']\n",
      "['0.90', '0.10']\n",
      "['0.94', '0.06']\n",
      "['0.78', '0.22']\n",
      "['0.92', '0.08']\n",
      "['0.82', '0.18']\n",
      "['0.77', '0.23']\n",
      "['0.89', '0.11']\n",
      "['0.71', '0.29']\n",
      "['0.73', '0.27']\n",
      "['0.85', '0.15']\n",
      "['0.82', '0.18']\n",
      "['0.61', '0.39']\n",
      "['0.59', '0.41']\n",
      "['0.47', '0.53']\n",
      "['0.92', '0.08']\n",
      "['0.38', '0.62']\n",
      "['0.94', '0.06']\n",
      "['0.95', '0.05']\n",
      "['0.68', '0.32']\n",
      "['0.50', '0.50']\n",
      "['0.80', '0.20']\n",
      "['0.81', '0.19']\n",
      "['0.71', '0.29']\n",
      "['0.97', '0.03']\n",
      "['0.78', '0.22']\n",
      "['0.73', '0.27']\n",
      "['0.77', '0.23']\n",
      "['0.74', '0.26']\n",
      "['0.77', '0.23']\n",
      "['0.96', '0.04']\n",
      "['0.86', '0.14']\n",
      "['0.77', '0.23']\n",
      "['0.65', '0.35']\n",
      "['0.88', '0.12']\n",
      "['0.31', '0.69']\n",
      "['0.41', '0.59']\n",
      "['0.88', '0.12']\n",
      "['0.53', '0.47']\n",
      "['0.91', '0.09']\n",
      "['0.95', '0.05']\n",
      "['0.85', '0.15']\n",
      "['0.45', '0.55']\n",
      "['0.30', '0.70']\n",
      "['0.72', '0.28']\n",
      "['0.51', '0.49']\n",
      "['0.82', '0.18']\n",
      "['0.93', '0.07']\n",
      "['0.87', '0.13']\n",
      "['0.75', '0.25']\n",
      "['0.97', '0.03']\n",
      "['0.77', '0.23']\n",
      "['0.80', '0.20']\n",
      "['0.84', '0.16']\n",
      "['0.94', '0.06']\n",
      "['0.82', '0.18']\n",
      "['0.61', '0.39']\n",
      "['0.93', '0.07']\n",
      "['0.80', '0.20']\n",
      "['0.76', '0.24']\n",
      "['0.40', '0.60']\n",
      "['0.82', '0.18']\n",
      "['0.51', '0.49']\n",
      "['0.57', '0.43']\n",
      "['0.88', '0.12']\n",
      "['0.66', '0.34']\n",
      "['0.34', '0.66']\n",
      "['0.79', '0.21']\n",
      "['0.86', '0.14']\n",
      "['0.90', '0.10']\n",
      "['0.76', '0.24']\n",
      "['0.77', '0.23']\n",
      "['0.93', '0.07']\n",
      "['0.86', '0.14']\n",
      "['0.73', '0.27']\n",
      "['0.91', '0.09']\n",
      "['0.94', '0.06']\n",
      "['0.80', '0.20']\n",
      "['0.55', '0.45']\n",
      "['0.87', '0.13']\n",
      "['0.81', '0.19']\n",
      "['0.86', '0.14']\n",
      "['0.96', '0.04']\n",
      "['0.76', '0.24']\n",
      "['0.94', '0.06']\n",
      "['0.78', '0.22']\n",
      "['0.96', '0.04']\n",
      "['0.91', '0.09']\n",
      "['0.97', '0.03']\n",
      "['0.46', '0.54']\n",
      "['0.89', '0.11']\n",
      "['0.75', '0.25']\n",
      "['0.84', '0.16']\n",
      "['0.75', '0.25']\n",
      "['0.90', '0.10']\n",
      "['0.92', '0.08']\n",
      "['0.74', '0.26']\n",
      "['0.97', '0.03']\n",
      "['0.83', '0.17']\n",
      "['0.50', '0.50']\n",
      "['0.49', '0.51']\n",
      "['0.52', '0.48']\n",
      "['0.74', '0.26']\n",
      "['0.96', '0.04']\n",
      "['0.87', '0.13']\n",
      "['0.82', '0.18']\n",
      "['0.80', '0.20']\n",
      "['0.67', '0.33']\n",
      "['0.74', '0.26']\n",
      "['0.94', '0.06']\n",
      "['0.60', '0.40']\n",
      "['0.81', '0.19']\n",
      "['0.73', '0.27']\n",
      "['0.83', '0.17']\n",
      "['0.77', '0.23']\n",
      "['0.72', '0.28']\n",
      "['0.96', '0.04']\n",
      "['0.91', '0.09']\n",
      "['0.91', '0.09']\n",
      "['0.94', '0.06']\n",
      "['0.96', '0.04']\n",
      "['0.78', '0.22']\n",
      "['0.89', '0.11']\n",
      "['0.73', '0.27']\n",
      "['0.77', '0.23']\n",
      "['0.88', '0.12']\n",
      "['0.73', '0.27']\n",
      "['0.82', '0.18']\n",
      "['0.83', '0.17']\n",
      "['0.83', '0.17']\n",
      "['0.68', '0.32']\n",
      "['0.79', '0.21']\n",
      "['0.53', '0.47']\n",
      "['0.85', '0.15']\n",
      "['0.75', '0.25']\n",
      "['0.50', '0.50']\n",
      "['0.95', '0.05']\n",
      "['0.69', '0.31']\n",
      "['0.90', '0.10']\n",
      "['0.93', '0.07']\n",
      "['0.86', '0.14']\n",
      "['0.70', '0.30']\n",
      "['0.86', '0.14']\n",
      "['0.61', '0.39']\n",
      "['0.79', '0.21']\n",
      "['0.63', '0.37']\n",
      "['0.92', '0.08']\n",
      "['0.58', '0.42']\n",
      "['0.91', '0.09']\n",
      "['0.94', '0.06']\n",
      "['0.81', '0.19']\n",
      "['0.76', '0.24']\n",
      "['0.61', '0.39']\n",
      "['0.51', '0.49']\n",
      "['0.86', '0.14']\n",
      "['0.60', '0.40']\n",
      "['0.90', '0.10']\n",
      "['0.45', '0.55']\n",
      "['0.76', '0.24']\n",
      "['0.80', '0.20']\n",
      "['0.64', '0.36']\n",
      "['0.63', '0.37']\n",
      "['0.78', '0.22']\n",
      "['0.58', '0.42']\n",
      "['0.80', '0.20']\n",
      "['0.93', '0.07']\n",
      "['0.92', '0.08']\n",
      "['0.19', '0.81']\n",
      "['0.60', '0.40']\n",
      "['0.68', '0.32']\n",
      "['0.49', '0.51']\n",
      "['0.84', '0.16']\n",
      "['0.61', '0.39']\n",
      "['0.87', '0.13']\n",
      "['0.75', '0.25']\n",
      "['0.96', '0.04']\n",
      "['0.83', '0.17']\n",
      "['0.77', '0.23']\n",
      "['0.95', '0.05']\n",
      "['0.88', '0.12']\n",
      "['0.70', '0.30']\n",
      "['0.75', '0.25']\n",
      "['0.47', '0.53']\n",
      "['0.86', '0.14']\n",
      "['0.90', '0.10']\n",
      "['0.73', '0.27']\n",
      "['0.66', '0.34']\n",
      "['0.96', '0.04']\n",
      "['0.20', '0.80']\n",
      "['0.56', '0.44']\n",
      "['0.69', '0.31']\n",
      "['0.73', '0.27']\n",
      "['0.89', '0.11']\n",
      "['0.81', '0.19']\n",
      "['0.95', '0.05']\n",
      "['0.78', '0.22']\n",
      "['0.86', '0.14']\n",
      "['0.89', '0.11']\n",
      "['0.44', '0.56']\n",
      "['0.66', '0.34']\n",
      "['0.59', '0.41']\n",
      "['0.90', '0.10']\n",
      "['0.86', '0.14']\n",
      "['0.85', '0.15']\n",
      "['0.82', '0.18']\n",
      "['0.67', '0.33']\n",
      "['0.67', '0.33']\n",
      "['0.87', '0.13']\n",
      "['0.90', '0.10']\n",
      "['0.67', '0.33']\n",
      "['0.75', '0.25']\n",
      "['0.89', '0.11']\n",
      "['0.82', '0.18']\n",
      "['0.89', '0.11']\n",
      "['0.67', '0.33']\n",
      "['0.64', '0.36']\n",
      "['0.94', '0.06']\n",
      "['0.76', '0.24']\n",
      "['0.93', '0.07']\n",
      "['0.60', '0.40']\n",
      "['0.83', '0.17']\n",
      "['0.91', '0.09']\n",
      "['0.91', '0.09']\n",
      "['0.60', '0.40']\n",
      "['0.70', '0.30']\n",
      "['0.95', '0.05']\n",
      "['0.44', '0.56']\n",
      "['0.69', '0.31']\n",
      "['0.92', '0.08']\n",
      "['0.76', '0.24']\n",
      "['0.75', '0.25']\n",
      "['0.92', '0.08']\n",
      "['0.95', '0.05']\n",
      "['0.51', '0.49']\n",
      "['0.87', '0.13']\n",
      "['0.50', '0.50']\n",
      "['0.55', '0.45']\n",
      "['0.39', '0.61']\n",
      "['0.58', '0.42']\n",
      "['0.94', '0.06']\n",
      "['0.49', '0.51']\n",
      "['0.79', '0.21']\n",
      "['0.89', '0.11']\n",
      "['0.93', '0.07']\n",
      "['0.91', '0.09']\n",
      "['0.92', '0.08']\n",
      "['0.63', '0.37']\n",
      "['0.92', '0.08']\n",
      "['0.78', '0.22']\n",
      "['0.90', '0.10']\n",
      "['0.61', '0.39']\n",
      "['0.89', '0.11']\n",
      "['0.65', '0.35']\n",
      "['0.41', '0.59']\n",
      "['0.91', '0.09']\n",
      "['0.65', '0.35']\n",
      "['0.92', '0.08']\n",
      "['0.93', '0.07']\n",
      "['0.87', '0.13']\n",
      "['0.80', '0.20']\n",
      "['0.77', '0.23']\n",
      "['0.48', '0.52']\n",
      "['0.92', '0.08']\n",
      "['0.27', '0.73']\n",
      "['0.95', '0.05']\n",
      "['0.91', '0.09']\n",
      "['0.73', '0.27']\n",
      "['0.85', '0.15']\n",
      "['0.44', '0.56']\n",
      "['0.61', '0.39']\n",
      "['0.81', '0.19']\n",
      "['0.45', '0.55']\n",
      "['0.74', '0.26']\n",
      "['0.51', '0.49']\n",
      "['0.66', '0.34']\n",
      "['0.24', '0.76']\n",
      "['0.57', '0.43']\n",
      "['0.94', '0.06']\n",
      "['0.70', '0.30']\n",
      "['0.88', '0.12']\n",
      "['0.65', '0.35']\n",
      "['0.89', '0.11']\n",
      "['0.69', '0.31']\n",
      "['0.49', '0.51']\n",
      "['0.11', '0.89']\n",
      "['0.79', '0.21']\n",
      "['0.57', '0.43']\n",
      "['0.67', '0.33']\n",
      "['0.88', '0.12']\n",
      "['0.93', '0.07']\n",
      "['0.48', '0.52']\n",
      "['0.89', '0.11']\n",
      "['0.89', '0.11']\n",
      "['0.88', '0.12']\n",
      "['0.83', '0.17']\n",
      "['0.63', '0.37']\n",
      "['0.83', '0.17']\n",
      "['0.84', '0.16']\n",
      "['0.85', '0.15']\n",
      "['0.93', '0.07']\n",
      "['0.89', '0.11']\n",
      "['0.72', '0.28']\n",
      "['0.95', '0.05']\n",
      "['0.61', '0.39']\n",
      "['0.62', '0.38']\n",
      "['0.90', '0.10']\n",
      "['0.65', '0.35']\n",
      "['0.76', '0.24']\n",
      "['0.97', '0.03']\n",
      "['0.94', '0.06']\n",
      "['0.77', '0.23']\n",
      "['0.73', '0.27']\n",
      "['0.87', '0.13']\n",
      "['0.77', '0.23']\n",
      "['0.70', '0.30']\n",
      "['0.63', '0.37']\n",
      "['0.61', '0.39']\n",
      "['0.83', '0.17']\n",
      "['0.86', '0.14']\n",
      "['0.57', '0.43']\n",
      "['0.88', '0.12']\n",
      "['0.83', '0.17']\n",
      "['0.57', '0.43']\n",
      "['0.69', '0.31']\n",
      "['0.39', '0.61']\n",
      "['0.48', '0.52']\n",
      "['0.93', '0.07']\n",
      "['0.75', '0.25']\n",
      "['0.68', '0.32']\n",
      "['0.81', '0.19']\n",
      "['0.87', '0.13']\n",
      "['0.55', '0.45']\n",
      "['0.90', '0.10']\n",
      "['0.79', '0.21']\n",
      "['0.86', '0.14']\n",
      "['0.89', '0.11']\n",
      "['0.56', '0.44']\n",
      "['0.79', '0.21']\n",
      "['0.94', '0.06']\n",
      "['0.73', '0.27']\n",
      "['0.86', '0.14']\n",
      "['0.91', '0.09']\n",
      "['0.70', '0.30']\n",
      "['0.93', '0.07']\n",
      "['0.85', '0.15']\n",
      "['0.81', '0.19']\n",
      "['0.78', '0.22']\n",
      "['0.81', '0.19']\n",
      "['0.85', '0.15']\n",
      "['0.62', '0.38']\n",
      "['0.43', '0.57']\n",
      "['0.82', '0.18']\n",
      "['0.87', '0.13']\n",
      "['0.80', '0.20']\n",
      "['0.94', '0.06']\n",
      "['0.82', '0.18']\n",
      "['0.92', '0.08']\n",
      "['0.95', '0.05']\n",
      "['0.27', '0.73']\n",
      "['0.67', '0.33']\n",
      "['0.72', '0.28']\n",
      "['0.61', '0.39']\n",
      "['0.82', '0.18']\n",
      "['0.62', '0.38']\n",
      "['0.15', '0.85']\n",
      "['0.91', '0.09']\n",
      "['0.54', '0.46']\n",
      "['0.94', '0.06']\n",
      "['0.81', '0.19']\n",
      "['0.82', '0.18']\n",
      "['0.87', '0.13']\n",
      "['0.91', '0.09']\n",
      "['0.77', '0.23']\n",
      "['0.86', '0.14']\n",
      "['0.83', '0.17']\n",
      "['0.95', '0.05']\n",
      "['0.56', '0.44']\n",
      "['0.93', '0.07']\n",
      "['0.61', '0.39']\n",
      "['0.86', '0.14']\n",
      "['0.89', '0.11']\n",
      "['0.77', '0.23']\n",
      "['0.72', '0.28']\n",
      "['0.71', '0.29']\n",
      "['0.45', '0.55']\n",
      "['0.38', '0.62']\n",
      "['0.95', '0.05']\n",
      "['0.91', '0.09']\n",
      "['0.96', '0.04']\n",
      "['0.78', '0.22']\n",
      "['0.88', '0.12']\n",
      "['0.54', '0.46']\n",
      "['0.81', '0.19']\n",
      "['0.86', '0.14']\n",
      "['0.90', '0.10']\n",
      "['0.87', '0.13']\n",
      "['0.69', '0.31']\n",
      "['0.92', '0.08']\n",
      "['0.58', '0.42']\n",
      "['0.92', '0.08']\n",
      "['0.70', '0.30']\n",
      "['0.91', '0.09']\n",
      "['0.51', '0.49']\n",
      "['0.84', '0.16']\n",
      "['0.78', '0.22']\n",
      "['0.86', '0.14']\n",
      "['0.85', '0.15']\n",
      "['0.79', '0.21']\n",
      "['0.64', '0.36']\n",
      "['0.84', '0.16']\n",
      "['0.72', '0.28']\n",
      "['0.73', '0.27']\n",
      "['0.34', '0.66']\n",
      "['0.72', '0.28']\n",
      "['0.92', '0.08']\n",
      "['0.78', '0.22']\n",
      "['0.60', '0.40']\n",
      "['0.78', '0.22']\n",
      "['0.61', '0.39']\n",
      "['0.46', '0.54']\n",
      "['0.68', '0.32']\n",
      "['0.59', '0.41']\n",
      "['0.93', '0.07']\n",
      "['0.93', '0.07']\n",
      "['0.93', '0.07']\n",
      "['0.50', '0.50']\n",
      "['0.55', '0.45']\n",
      "['0.69', '0.31']\n",
      "['0.88', '0.12']\n",
      "['0.78', '0.22']\n",
      "['0.73', '0.27']\n",
      "['0.87', '0.13']\n",
      "['0.95', '0.05']\n",
      "['0.78', '0.22']\n",
      "['0.64', '0.36']\n",
      "['0.79', '0.21']\n",
      "['0.94', '0.06']\n",
      "['0.69', '0.31']\n",
      "['0.94', '0.06']\n",
      "['0.66', '0.34']\n",
      "['0.90', '0.10']\n",
      "['0.93', '0.07']\n",
      "['0.81', '0.19']\n",
      "['0.75', '0.25']\n",
      "['0.71', '0.29']\n",
      "['0.93', '0.07']\n",
      "['0.69', '0.31']\n",
      "['0.72', '0.28']\n",
      "['0.86', '0.14']\n",
      "['0.48', '0.52']\n",
      "['0.93', '0.07']\n",
      "['0.84', '0.16']\n",
      "['0.90', '0.10']\n",
      "['0.44', '0.56']\n",
      "['0.89', '0.11']\n",
      "['0.77', '0.23']\n",
      "['0.78', '0.22']\n",
      "['0.86', '0.14']\n",
      "['0.95', '0.05']\n",
      "['0.86', '0.14']\n",
      "['0.40', '0.60']\n",
      "['0.73', '0.27']\n",
      "['0.78', '0.22']\n",
      "['0.94', '0.06']\n",
      "['0.68', '0.32']\n",
      "['0.81', '0.19']\n",
      "['0.75', '0.25']\n",
      "['0.64', '0.36']\n",
      "['0.84', '0.16']\n",
      "['0.92', '0.08']\n",
      "['0.64', '0.36']\n",
      "['0.79', '0.21']\n",
      "['0.85', '0.15']\n",
      "['0.94', '0.06']\n",
      "['0.92', '0.08']\n",
      "['0.96', '0.04']\n",
      "['0.93', '0.07']\n",
      "['0.38', '0.62']\n",
      "['0.86', '0.14']\n",
      "['0.79', '0.21']\n",
      "['0.58', '0.42']\n",
      "['0.88', '0.12']\n",
      "['0.45', '0.55']\n",
      "['0.89', '0.11']\n",
      "['0.57', '0.43']\n",
      "['0.95', '0.05']\n",
      "['0.74', '0.26']\n",
      "['0.86', '0.14']\n",
      "['0.95', '0.05']\n",
      "['0.87', '0.13']\n",
      "['0.76', '0.24']\n",
      "['0.72', '0.28']\n",
      "['0.92', '0.08']\n",
      "['0.92', '0.08']\n",
      "['0.63', '0.37']\n",
      "['0.90', '0.10']\n",
      "['0.41', '0.59']\n",
      "['0.82', '0.18']\n",
      "['0.94', '0.06']\n",
      "['0.78', '0.22']\n",
      "['0.90', '0.10']\n",
      "['0.69', '0.31']\n",
      "['0.79', '0.21']\n",
      "['0.83', '0.17']\n",
      "['0.89', '0.11']\n",
      "['0.65', '0.35']\n",
      "['0.90', '0.10']\n",
      "['0.30', '0.70']\n",
      "['0.95', '0.05']\n",
      "['0.11', '0.89']\n",
      "['0.81', '0.19']\n",
      "['0.86', '0.14']\n",
      "['0.94', '0.06']\n",
      "['0.87', '0.13']\n",
      "['0.77', '0.23']\n",
      "['0.81', '0.19']\n",
      "['0.90', '0.10']\n",
      "['0.68', '0.32']\n",
      "['0.95', '0.05']\n",
      "['0.85', '0.15']\n",
      "['0.93', '0.07']\n",
      "['0.81', '0.19']\n",
      "['0.52', '0.48']\n",
      "['0.75', '0.25']\n",
      "['0.93', '0.07']\n",
      "['0.75', '0.25']\n",
      "['0.72', '0.28']\n",
      "['0.86', '0.14']\n",
      "['0.87', '0.13']\n",
      "['0.89', '0.11']\n",
      "['0.73', '0.27']\n",
      "['0.94', '0.06']\n",
      "['0.52', '0.48']\n",
      "['0.73', '0.27']\n",
      "['0.86', '0.14']\n",
      "['0.73', '0.27']\n",
      "['0.46', '0.54']\n",
      "['0.96', '0.04']\n",
      "['0.66', '0.34']\n",
      "['0.73', '0.27']\n",
      "['0.89', '0.11']\n",
      "['0.85', '0.15']\n",
      "['0.77', '0.23']\n",
      "['0.95', '0.05']\n",
      "['0.86', '0.14']\n",
      "['0.60', '0.40']\n",
      "['0.90', '0.10']\n",
      "['0.83', '0.17']\n",
      "['0.75', '0.25']\n",
      "['0.84', '0.16']\n",
      "['0.88', '0.12']\n",
      "['0.81', '0.19']\n",
      "['0.88', '0.12']\n",
      "['0.79', '0.21']\n",
      "['0.78', '0.22']\n",
      "['0.67', '0.33']\n",
      "['0.76', '0.24']\n",
      "['0.74', '0.26']\n",
      "['0.87', '0.13']\n",
      "['0.90', '0.10']\n",
      "['0.84', '0.16']\n",
      "['0.84', '0.16']\n",
      "['0.92', '0.08']\n",
      "['0.76', '0.24']\n",
      "['0.77', '0.23']\n",
      "['0.56', '0.44']\n",
      "['0.65', '0.35']\n",
      "['0.42', '0.58']\n",
      "['0.80', '0.20']\n",
      "['0.82', '0.18']\n",
      "['0.43', '0.57']\n",
      "['0.96', '0.04']\n",
      "['0.47', '0.53']\n",
      "['0.40', '0.60']\n",
      "['0.73', '0.27']\n",
      "['0.88', '0.12']\n",
      "['0.47', '0.53']\n",
      "['0.71', '0.29']\n",
      "['0.87', '0.13']\n",
      "['0.84', '0.16']\n",
      "['0.80', '0.20']\n",
      "['0.70', '0.30']\n",
      "['0.26', '0.74']\n",
      "['0.81', '0.19']\n",
      "['0.73', '0.27']\n",
      "['0.89', '0.11']\n",
      "['0.66', '0.34']\n",
      "['0.83', '0.17']\n",
      "['0.84', '0.16']\n",
      "['0.81', '0.19']\n",
      "['0.89', '0.11']\n",
      "['0.90', '0.10']\n",
      "['0.69', '0.31']\n",
      "['0.81', '0.19']\n",
      "['0.59', '0.41']\n",
      "['0.88', '0.12']\n",
      "['0.84', '0.16']\n",
      "['0.86', '0.14']\n",
      "['0.59', '0.41']\n",
      "['0.82', '0.18']\n",
      "['0.90', '0.10']\n",
      "['0.53', '0.47']\n",
      "['0.96', '0.04']\n",
      "['0.89', '0.11']\n",
      "['0.82', '0.18']\n",
      "['0.79', '0.21']\n",
      "['0.90', '0.10']\n",
      "['0.89', '0.11']\n",
      "['0.79', '0.21']\n",
      "['0.86', '0.14']\n",
      "['0.32', '0.68']\n",
      "['0.77', '0.23']\n",
      "['0.82', '0.18']\n",
      "['0.95', '0.05']\n",
      "['0.82', '0.18']\n",
      "['0.89', '0.11']\n",
      "['0.58', '0.42']\n",
      "['0.57', '0.43']\n",
      "['0.83', '0.17']\n",
      "['0.44', '0.56']\n",
      "['0.78', '0.22']\n",
      "['0.37', '0.63']\n",
      "['0.94', '0.06']\n",
      "['0.88', '0.12']\n",
      "['0.65', '0.35']\n",
      "['0.82', '0.18']\n",
      "['0.86', '0.14']\n",
      "['0.82', '0.18']\n",
      "['0.49', '0.51']\n",
      "['0.50', '0.50']\n",
      "['0.71', '0.29']\n",
      "['0.51', '0.49']\n",
      "['0.82', '0.18']\n",
      "['0.61', '0.39']\n",
      "['0.86', '0.14']\n",
      "['0.84', '0.16']\n",
      "['0.78', '0.22']\n",
      "['0.73', '0.27']\n",
      "['0.75', '0.25']\n",
      "['0.80', '0.20']\n",
      "['0.82', '0.18']\n",
      "['0.53', '0.47']\n",
      "['0.86', '0.14']\n",
      "['0.84', '0.16']\n",
      "['0.84', '0.16']\n",
      "['0.66', '0.34']\n",
      "['0.52', '0.48']\n",
      "['0.68', '0.32']\n",
      "['0.74', '0.26']\n",
      "['0.81', '0.19']\n",
      "['0.92', '0.08']\n",
      "['0.69', '0.31']\n",
      "['0.63', '0.37']\n",
      "['0.85', '0.15']\n",
      "['0.79', '0.21']\n",
      "['0.90', '0.10']\n",
      "['0.89', '0.11']\n",
      "['0.72', '0.28']\n",
      "['0.86', '0.14']\n",
      "['0.66', '0.34']\n",
      "['0.70', '0.30']\n",
      "['0.81', '0.19']\n",
      "['0.92', '0.08']\n",
      "['0.83', '0.17']\n",
      "['0.84', '0.16']\n",
      "['0.76', '0.24']\n",
      "['0.34', '0.66']\n",
      "['0.81', '0.19']\n",
      "['0.80', '0.20']\n",
      "['0.32', '0.68']\n",
      "['0.63', '0.37']\n",
      "['0.90', '0.10']\n",
      "['0.73', '0.27']\n",
      "['0.82', '0.18']\n",
      "['0.84', '0.16']\n",
      "['0.75', '0.25']\n",
      "['0.49', '0.51']\n",
      "['0.94', '0.06']\n",
      "['0.70', '0.30']\n",
      "['0.43', '0.57']\n",
      "['0.94', '0.06']\n",
      "['0.52', '0.48']\n",
      "['0.87', '0.13']\n",
      "['0.77', '0.23']\n",
      "['0.76', '0.24']\n",
      "['0.68', '0.32']\n",
      "['0.93', '0.07']\n",
      "['0.79', '0.21']\n",
      "['0.93', '0.07']\n",
      "['0.72', '0.28']\n",
      "['0.87', '0.13']\n",
      "['0.94', '0.06']\n",
      "['0.61', '0.39']\n",
      "['0.71', '0.29']\n",
      "['0.91', '0.09']\n",
      "['0.84', '0.16']\n",
      "['0.96', '0.04']\n",
      "['0.86', '0.14']\n",
      "['0.87', '0.13']\n",
      "['0.48', '0.52']\n",
      "['0.93', '0.07']\n",
      "['0.86', '0.14']\n",
      "['0.25', '0.75']\n",
      "['0.23', '0.77']\n",
      "['0.78', '0.22']\n",
      "['0.95', '0.05']\n",
      "['0.31', '0.69']\n",
      "['0.89', '0.11']\n",
      "['0.73', '0.27']\n",
      "['0.76', '0.24']\n",
      "['0.89', '0.11']\n",
      "['0.95', '0.05']\n",
      "['0.93', '0.07']\n",
      "['0.92', '0.08']\n",
      "['0.94', '0.06']\n",
      "['0.41', '0.59']\n",
      "['0.94', '0.06']\n",
      "['0.71', '0.29']\n",
      "['0.91', '0.09']\n",
      "['0.29', '0.71']\n",
      "['0.42', '0.58']\n",
      "['0.80', '0.20']\n",
      "['0.69', '0.31']\n",
      "['0.71', '0.29']\n",
      "['0.90', '0.10']\n",
      "['0.71', '0.29']\n",
      "['0.90', '0.10']\n",
      "['0.63', '0.37']\n",
      "['0.64', '0.36']\n",
      "['0.83', '0.17']\n",
      "['0.67', '0.33']\n",
      "['0.71', '0.29']\n",
      "['0.77', '0.23']\n",
      "['0.77', '0.23']\n",
      "['0.65', '0.35']\n",
      "['0.88', '0.12']\n",
      "['0.84', '0.16']\n",
      "['0.73', '0.27']\n",
      "['0.94', '0.06']\n",
      "['0.59', '0.41']\n",
      "['0.88', '0.12']\n",
      "['0.69', '0.31']\n",
      "['0.49', '0.51']\n",
      "['0.68', '0.32']\n",
      "['0.29', '0.71']\n",
      "['0.87', '0.13']\n",
      "['0.80', '0.20']\n",
      "['0.47', '0.53']\n",
      "['0.94', '0.06']\n",
      "['0.59', '0.41']\n",
      "['0.96', '0.04']\n",
      "['0.73', '0.27']\n",
      "['0.70', '0.30']\n",
      "['0.82', '0.18']\n",
      "['0.19', '0.81']\n",
      "['0.79', '0.21']\n",
      "['0.70', '0.30']\n",
      "['0.70', '0.30']\n",
      "['0.92', '0.08']\n",
      "['0.56', '0.44']\n",
      "['0.88', '0.12']\n",
      "['0.93', '0.07']\n",
      "['0.85', '0.15']\n",
      "['0.87', '0.13']\n",
      "['0.72', '0.28']\n",
      "['0.89', '0.11']\n",
      "['0.86', '0.14']\n",
      "['0.76', '0.24']\n",
      "['0.73', '0.27']\n",
      "['0.70', '0.30']\n",
      "['0.85', '0.15']\n",
      "['0.93', '0.07']\n",
      "['0.80', '0.20']\n",
      "['0.61', '0.39']\n",
      "['0.80', '0.20']\n",
      "['0.66', '0.34']\n",
      "['0.68', '0.32']\n",
      "['0.92', '0.08']\n",
      "['0.95', '0.05']\n",
      "['0.90', '0.10']\n",
      "['0.35', '0.65']\n",
      "['0.75', '0.25']\n",
      "['0.81', '0.19']\n",
      "['0.66', '0.34']\n",
      "['0.54', '0.46']\n",
      "['0.68', '0.32']\n",
      "['0.62', '0.38']\n",
      "['0.90', '0.10']\n",
      "['0.83', '0.17']\n",
      "['0.67', '0.33']\n",
      "['0.91', '0.09']\n",
      "['0.86', '0.14']\n",
      "['0.88', '0.12']\n",
      "['0.63', '0.37']\n",
      "['0.69', '0.31']\n",
      "['0.94', '0.06']\n",
      "['0.28', '0.72']\n",
      "['0.91', '0.09']\n",
      "['0.83', '0.17']\n",
      "['0.64', '0.36']\n",
      "['0.47', '0.53']\n",
      "['0.87', '0.13']\n",
      "['0.79', '0.21']\n",
      "['0.68', '0.32']\n",
      "['0.48', '0.52']\n",
      "['0.72', '0.28']\n",
      "['0.96', '0.04']\n",
      "['0.89', '0.11']\n",
      "['0.83', '0.17']\n",
      "['0.55', '0.45']\n",
      "['0.63', '0.37']\n",
      "['0.85', '0.15']\n",
      "['0.65', '0.35']\n",
      "['0.94', '0.06']\n",
      "['0.68', '0.32']\n",
      "['0.20', '0.80']\n",
      "['0.43', '0.57']\n",
      "['0.90', '0.10']\n",
      "['0.86', '0.14']\n",
      "['0.80', '0.20']\n",
      "['0.79', '0.21']\n",
      "['0.62', '0.38']\n",
      "['0.89', '0.11']\n",
      "['0.69', '0.31']\n",
      "['0.88', '0.12']\n",
      "['0.92', '0.08']\n",
      "['0.92', '0.08']\n",
      "['0.79', '0.21']\n",
      "['0.69', '0.31']\n",
      "['0.82', '0.18']\n",
      "['0.88', '0.12']\n",
      "['0.67', '0.33']\n",
      "['0.70', '0.30']\n",
      "['0.95', '0.05']\n",
      "['0.62', '0.38']\n",
      "['0.93', '0.07']\n",
      "['0.88', '0.12']\n",
      "['0.49', '0.51']\n",
      "['0.78', '0.22']\n",
      "['0.30', '0.70']\n",
      "['0.56', '0.44']\n",
      "['0.90', '0.10']\n",
      "['0.86', '0.14']\n",
      "['0.53', '0.47']\n",
      "['0.69', '0.31']\n",
      "['0.97', '0.03']\n",
      "['0.81', '0.19']\n",
      "['0.65', '0.35']\n",
      "['0.71', '0.29']\n",
      "['0.91', '0.09']\n",
      "['0.52', '0.48']\n",
      "['0.65', '0.35']\n",
      "['0.79', '0.21']\n",
      "['0.82', '0.18']\n",
      "['0.63', '0.37']\n",
      "['0.93', '0.07']\n",
      "['0.87', '0.13']\n",
      "['0.79', '0.21']\n",
      "['0.95', '0.05']\n",
      "['0.91', '0.09']\n",
      "['0.67', '0.33']\n",
      "['0.77', '0.23']\n",
      "['0.71', '0.29']\n",
      "['0.61', '0.39']\n",
      "['0.71', '0.29']\n",
      "['0.71', '0.29']\n",
      "['0.73', '0.27']\n",
      "['0.55', '0.45']\n",
      "['0.77', '0.23']\n",
      "['0.94', '0.06']\n",
      "['0.93', '0.07']\n",
      "['0.76', '0.24']\n",
      "['0.66', '0.34']\n",
      "['0.92', '0.08']\n",
      "['0.68', '0.32']\n",
      "['0.93', '0.07']\n",
      "['0.82', '0.18']\n",
      "['0.77', '0.23']\n",
      "['0.88', '0.12']\n",
      "['0.66', '0.34']\n",
      "['0.88', '0.12']\n",
      "['0.90', '0.10']\n",
      "['0.75', '0.25']\n",
      "['0.95', '0.05']\n",
      "['0.87', '0.13']\n",
      "['0.62', '0.38']\n",
      "['0.81', '0.19']\n",
      "['0.91', '0.09']\n",
      "['0.91', '0.09']\n",
      "['0.65', '0.35']\n",
      "['0.85', '0.15']\n",
      "['0.94', '0.06']\n",
      "['0.79', '0.21']\n",
      "['0.86', '0.14']\n",
      "['0.23', '0.77']\n",
      "['0.57', '0.43']\n",
      "['0.57', '0.43']\n",
      "['0.87', '0.13']\n",
      "['0.77', '0.23']\n",
      "['0.73', '0.27']\n",
      "['0.89', '0.11']\n",
      "['0.93', '0.07']\n",
      "['0.66', '0.34']\n",
      "['0.56', '0.44']\n",
      "['0.77', '0.23']\n",
      "['0.69', '0.31']\n",
      "['0.61', '0.39']\n",
      "['0.88', '0.12']\n",
      "['0.84', '0.16']\n",
      "['0.87', '0.13']\n",
      "['0.86', '0.14']\n",
      "['0.70', '0.30']\n",
      "['0.90', '0.10']\n",
      "['0.56', '0.44']\n",
      "['0.68', '0.32']\n",
      "['0.68', '0.32']\n",
      "['0.89', '0.11']\n",
      "['0.62', '0.38']\n",
      "['0.73', '0.27']\n",
      "['0.34', '0.66']\n",
      "['0.74', '0.26']\n",
      "['0.75', '0.25']\n",
      "['0.88', '0.12']\n",
      "['0.49', '0.51']\n",
      "['0.86', '0.14']\n",
      "['0.88', '0.12']\n",
      "['0.75', '0.25']\n",
      "['0.61', '0.39']\n",
      "['0.95', '0.05']\n",
      "['0.63', '0.37']\n",
      "['0.86', '0.14']\n",
      "['0.81', '0.19']\n",
      "['0.85', '0.15']\n",
      "['0.82', '0.18']\n",
      "['0.83', '0.17']\n",
      "['0.86', '0.14']\n",
      "['0.85', '0.15']\n",
      "['0.12', '0.88']\n",
      "['0.78', '0.22']\n",
      "['0.86', '0.14']\n",
      "['0.89', '0.11']\n",
      "['0.67', '0.33']\n",
      "['0.94', '0.06']\n",
      "['0.96', '0.04']\n",
      "['0.70', '0.30']\n",
      "['0.71', '0.29']\n",
      "['0.87', '0.13']\n",
      "['0.79', '0.21']\n",
      "['0.67', '0.33']\n",
      "['0.43', '0.57']\n",
      "['0.85', '0.15']\n",
      "['0.45', '0.55']\n",
      "['0.72', '0.28']\n",
      "['0.60', '0.40']\n",
      "['0.70', '0.30']\n",
      "['0.88', '0.12']\n",
      "['0.84', '0.16']\n",
      "['0.92', '0.08']\n",
      "['0.86', '0.14']\n",
      "['0.70', '0.30']\n",
      "['0.63', '0.37']\n",
      "['0.80', '0.20']\n",
      "['0.85', '0.15']\n",
      "['0.19', '0.81']\n",
      "['0.81', '0.19']\n",
      "['0.69', '0.31']\n",
      "['0.88', '0.12']\n",
      "['0.39', '0.61']\n",
      "['0.53', '0.47']\n",
      "['0.71', '0.29']\n",
      "['0.85', '0.15']\n",
      "['0.72', '0.28']\n",
      "['0.71', '0.29']\n",
      "['0.79', '0.21']\n",
      "['0.45', '0.55']\n",
      "['0.85', '0.15']\n",
      "['0.94', '0.06']\n",
      "['0.92', '0.08']\n",
      "['0.95', '0.05']\n",
      "['0.37', '0.63']\n",
      "['0.76', '0.24']\n",
      "['0.87', '0.13']\n",
      "['0.70', '0.30']\n",
      "['0.72', '0.28']\n",
      "['0.65', '0.35']\n",
      "['0.86', '0.14']\n",
      "['0.65', '0.35']\n",
      "['0.89', '0.11']\n",
      "['0.91', '0.09']\n",
      "['0.89', '0.11']\n",
      "['0.81', '0.19']\n",
      "['0.77', '0.23']\n",
      "['0.67', '0.33']\n",
      "['0.94', '0.06']\n",
      "['0.91', '0.09']\n",
      "['0.86', '0.14']\n",
      "['0.93', '0.07']\n",
      "['0.91', '0.09']\n",
      "['0.92', '0.08']\n",
      "['0.90', '0.10']\n",
      "['0.84', '0.16']\n",
      "['0.90', '0.10']\n",
      "['0.88', '0.12']\n",
      "['0.81', '0.19']\n",
      "['0.72', '0.28']\n",
      "['0.93', '0.07']\n",
      "['0.81', '0.19']\n",
      "['0.95', '0.05']\n",
      "['0.89', '0.11']\n",
      "['0.61', '0.39']\n",
      "['0.90', '0.10']\n",
      "['0.58', '0.42']\n",
      "['0.40', '0.60']\n",
      "['0.74', '0.26']\n",
      "['0.53', '0.47']\n",
      "['0.77', '0.23']\n",
      "['0.57', '0.43']\n",
      "['0.82', '0.18']\n",
      "['0.85', '0.15']\n",
      "['0.78', '0.22']\n",
      "['0.91', '0.09']\n",
      "['0.67', '0.33']\n",
      "['0.65', '0.35']\n",
      "['0.84', '0.16']\n",
      "['0.95', '0.05']\n",
      "['0.88', '0.12']\n",
      "['0.91', '0.09']\n",
      "['0.73', '0.27']\n",
      "['0.51', '0.49']\n",
      "['0.82', '0.18']\n",
      "['0.85', '0.15']\n",
      "['0.81', '0.19']\n",
      "['0.84', '0.16']\n",
      "['0.83', '0.17']\n",
      "['0.90', '0.10']\n",
      "['0.81', '0.19']\n",
      "['0.82', '0.18']\n",
      "['0.91', '0.09']\n",
      "['0.75', '0.25']\n",
      "['0.36', '0.64']\n",
      "['0.86', '0.14']\n",
      "['0.85', '0.15']\n",
      "['0.65', '0.35']\n",
      "['0.74', '0.26']\n",
      "['0.90', '0.10']\n",
      "['0.95', '0.05']\n",
      "['0.51', '0.49']\n",
      "['0.94', '0.06']\n",
      "['0.88', '0.12']\n",
      "['0.71', '0.29']\n",
      "['0.91', '0.09']\n",
      "['0.89', '0.11']\n",
      "['0.94', '0.06']\n",
      "['0.89', '0.11']\n",
      "['0.81', '0.19']\n",
      "['0.57', '0.43']\n",
      "['0.77', '0.23']\n",
      "['0.57', '0.43']\n",
      "['0.84', '0.16']\n",
      "['0.63', '0.37']\n",
      "['0.79', '0.21']\n",
      "['0.69', '0.31']\n",
      "['0.62', '0.38']\n",
      "['0.82', '0.18']\n",
      "['0.81', '0.19']\n",
      "['0.60', '0.40']\n",
      "['0.79', '0.21']\n",
      "['0.91', '0.09']\n",
      "['0.86', '0.14']\n",
      "['0.86', '0.14']\n",
      "['0.82', '0.18']\n",
      "['0.51', '0.49']\n",
      "['0.80', '0.20']\n",
      "['0.83', '0.17']\n",
      "['0.95', '0.05']\n",
      "['0.88', '0.12']\n",
      "['0.93', '0.07']\n",
      "['0.92', '0.08']\n",
      "['0.77', '0.23']\n",
      "['0.61', '0.39']\n",
      "['0.57', '0.43']\n",
      "['0.91', '0.09']\n",
      "['0.83', '0.17']\n",
      "['0.59', '0.41']\n",
      "['0.46', '0.54']\n",
      "['0.79', '0.21']\n",
      "['0.84', '0.16']\n",
      "['0.94', '0.06']\n",
      "['0.83', '0.17']\n",
      "['0.90', '0.10']\n",
      "['0.94', '0.06']\n",
      "['0.65', '0.35']\n",
      "['0.92', '0.08']\n",
      "['0.86', '0.14']\n",
      "['0.62', '0.38']\n",
      "['0.84', '0.16']\n",
      "['0.70', '0.30']\n",
      "['0.91', '0.09']\n",
      "['0.96', '0.04']\n",
      "['0.57', '0.43']\n",
      "['0.60', '0.40']\n",
      "['0.85', '0.15']\n",
      "['0.89', '0.11']\n",
      "['0.58', '0.42']\n",
      "['0.97', '0.03']\n",
      "['0.92', '0.08']\n",
      "['0.34', '0.66']\n",
      "['0.89', '0.11']\n",
      "['0.81', '0.19']\n",
      "['0.94', '0.06']\n",
      "['0.61', '0.39']\n",
      "['0.48', '0.52']\n",
      "['0.92', '0.08']\n",
      "['0.86', '0.14']\n",
      "['0.70', '0.30']\n",
      "['0.93', '0.07']\n",
      "['0.89', '0.11']\n",
      "['0.32', '0.68']\n",
      "['0.79', '0.21']\n",
      "['0.68', '0.32']\n",
      "['0.97', '0.03']\n",
      "['0.54', '0.46']\n",
      "['0.88', '0.12']\n",
      "['0.65', '0.35']\n",
      "['0.91', '0.09']\n",
      "['0.94', '0.06']\n",
      "['0.43', '0.57']\n",
      "['0.82', '0.18']\n",
      "['0.42', '0.58']\n",
      "['0.39', '0.61']\n",
      "['0.77', '0.23']\n",
      "['0.54', '0.46']\n",
      "['0.51', '0.49']\n",
      "['0.39', '0.61']\n",
      "['0.94', '0.06']\n",
      "['0.82', '0.18']\n",
      "['0.80', '0.20']\n",
      "['0.91', '0.09']\n",
      "['0.93', '0.07']\n",
      "['0.89', '0.11']\n",
      "['0.43', '0.57']\n",
      "['0.89', '0.11']\n",
      "['0.82', '0.18']\n",
      "['0.27', '0.73']\n",
      "['0.94', '0.06']\n",
      "['0.95', '0.05']\n",
      "['0.94', '0.06']\n",
      "['0.84', '0.16']\n",
      "['0.79', '0.21']\n",
      "['0.91', '0.09']\n",
      "['0.91', '0.09']\n",
      "['0.92', '0.08']\n",
      "['0.91', '0.09']\n",
      "['0.87', '0.13']\n",
      "['0.95', '0.05']\n",
      "['0.51', '0.49']\n",
      "['0.94', '0.06']\n",
      "['0.71', '0.29']\n",
      "['0.72', '0.28']\n",
      "['0.74', '0.26']\n",
      "['0.64', '0.36']\n",
      "['0.84', '0.16']\n",
      "['0.90', '0.10']\n",
      "['0.97', '0.03']\n",
      "['0.89', '0.11']\n",
      "['0.86', '0.14']\n",
      "['0.92', '0.08']\n",
      "['0.60', '0.40']\n",
      "['0.68', '0.32']\n",
      "['0.77', '0.23']\n",
      "['0.83', '0.17']\n",
      "['0.69', '0.31']\n",
      "['0.67', '0.33']\n",
      "['0.71', '0.29']\n",
      "['0.87', '0.13']\n",
      "['0.25', '0.75']\n",
      "['0.55', '0.45']\n",
      "['0.62', '0.38']\n",
      "['0.85', '0.15']\n",
      "['0.73', '0.27']\n",
      "['0.79', '0.21']\n",
      "['0.58', '0.42']\n",
      "['0.74', '0.26']\n",
      "['0.90', '0.10']\n",
      "['0.64', '0.36']\n",
      "['0.65', '0.35']\n",
      "['0.80', '0.20']\n",
      "['0.44', '0.56']\n",
      "['0.83', '0.17']\n",
      "['0.47', '0.53']\n",
      "['0.82', '0.18']\n",
      "['0.77', '0.23']\n",
      "['0.24', '0.76']\n",
      "['0.91', '0.09']\n",
      "['0.64', '0.36']\n",
      "['0.91', '0.09']\n",
      "['0.96', '0.04']\n",
      "['0.74', '0.26']\n",
      "['0.68', '0.32']\n",
      "['0.86', '0.14']\n",
      "['0.91', '0.09']\n",
      "['0.84', '0.16']\n",
      "['0.79', '0.21']\n",
      "['0.82', '0.18']\n",
      "['0.82', '0.18']\n",
      "['0.48', '0.52']\n",
      "['0.77', '0.23']\n",
      "['0.77', '0.23']\n",
      "['0.42', '0.58']\n",
      "['0.91', '0.09']\n",
      "['0.90', '0.10']\n",
      "['0.88', '0.12']\n",
      "['0.90', '0.10']\n",
      "['0.84', '0.16']\n",
      "['0.86', '0.14']\n",
      "['0.87', '0.13']\n",
      "['0.80', '0.20']\n",
      "['0.85', '0.15']\n",
      "['0.78', '0.22']\n",
      "['0.67', '0.33']\n",
      "['0.54', '0.46']\n",
      "['0.61', '0.39']\n",
      "['0.88', '0.12']\n",
      "['0.84', '0.16']\n",
      "['0.89', '0.11']\n",
      "['0.80', '0.20']\n",
      "['0.93', '0.07']\n",
      "['0.79', '0.21']\n",
      "['0.86', '0.14']\n",
      "['0.50', '0.50']\n",
      "['0.77', '0.23']\n",
      "['0.92', '0.08']\n",
      "['0.93', '0.07']\n",
      "['0.82', '0.18']\n",
      "['0.67', '0.33']\n",
      "['0.42', '0.58']\n",
      "['0.93', '0.07']\n",
      "['0.77', '0.23']\n",
      "['0.96', '0.04']\n",
      "['0.30', '0.70']\n",
      "['0.84', '0.16']\n",
      "['0.78', '0.22']\n",
      "['0.85', '0.15']\n",
      "['0.65', '0.35']\n",
      "['0.88', '0.12']\n",
      "['0.61', '0.39']\n",
      "['0.54', '0.46']\n",
      "['0.82', '0.18']\n",
      "['0.88', '0.12']\n",
      "['0.60', '0.40']\n",
      "['0.86', '0.14']\n",
      "['0.89', '0.11']\n",
      "['0.40', '0.60']\n",
      "['0.52', '0.48']\n",
      "['0.43', '0.57']\n",
      "['0.90', '0.10']\n",
      "['0.94', '0.06']\n",
      "['0.87', '0.13']\n",
      "['0.93', '0.07']\n",
      "['0.43', '0.57']\n",
      "['0.74', '0.26']\n",
      "['0.84', '0.16']\n",
      "['0.88', '0.12']\n"
     ]
    }
   ],
   "source": [
    "print(\"Predicted Probabilities:\")\n",
    "for probs in predicted_probabilities:\n",
    "    formatted_probs = [f\"{prob:.2f}\" for prob in probs]\n",
    "    print(formatted_probs)"
   ]
  },
  {
   "cell_type": "code",
   "execution_count": 136,
   "metadata": {
    "scrolled": false
   },
   "outputs": [
    {
     "data": {
      "text/plain": [
       "<AxesSubplot:ylabel='Feature'>"
      ]
     },
     "execution_count": 136,
     "metadata": {},
     "output_type": "execute_result"
    },
    {
     "data": {
      "image/png": "[encoded data removed]",
      "text/plain": [
       "<Figure size 720x432 with 1 Axes>"
      ]
     },
     "metadata": {
      "needs_background": "light"
     },
     "output_type": "display_data"
    }
   ],
   "source": [
    "coefficients = lrmodel.coef_\n",
    " \n",
    "avg_importance = np.mean(np.abs(coefficients), axis=0)\n",
    "feature_importance = pd.DataFrame({'Feature': X.columns, 'Importance': avg_importance})\n",
    "feature_importance = feature_importance.sort_values('Importance', ascending=True)\n",
    "feature_importance.plot(x='Feature', y='Importance', kind='barh', figsize=(10, 6))"
   ]
  },
  {
   "cell_type": "code",
   "execution_count": null,
   "metadata": {},
   "outputs": [],
   "source": [
    "# copy = df.drop(columns = ['churn', 'customer_id'])\n",
    "\n",
    "\n",
    "\n",
    "# xdf = pd.DataFrame(sc.inverse_transform(X_test), columns=copy.columns) #multiply by sd and then subtract from mean; only columns you need to - can print out parameters \n",
    "\n",
    "# xdf.head()\n",
    "\n",
    "# xdf['pred'] = predicted_probabilities[:,1]"
   ]
  },
  {
   "cell_type": "code",
   "execution_count": null,
   "metadata": {},
   "outputs": [],
   "source": [
    "# copy = df.drop(columns = ['churn', 'customer_id'])\n",
    "\n",
    "\n",
    "\n",
    "# xdf = pd.DataFrame(sc.inverse_transform(X_test), columns=copy.columns) #multiply by sd and then subtract from mean; only columns you need to - can print out parameters \n",
    "\n",
    "# xdf.head()\n",
    "\n",
    "# xdf['pred'] = predicted_probabilities[:,1]"
   ]
  },
  {
   "cell_type": "code",
   "execution_count": null,
   "metadata": {},
   "outputs": [],
   "source": [
    "# sc.mean_"
   ]
  },
  {
   "cell_type": "code",
   "execution_count": null,
   "metadata": {},
   "outputs": [],
   "source": [
    "# y_test['preds'] = predicted_probabilities\n",
    "# y_test['preds']\n",
    "\n",
    "# y_test['preds'][:,1]\n",
    "\n",
    "# df_out = \n",
    "\n",
    "# df_out = pd.merge(df,y_test['preds'][:,1],how = 'left',left_index "
   ]
  },
  {
   "cell_type": "code",
   "execution_count": null,
   "metadata": {},
   "outputs": [],
   "source": []
  },
  {
   "cell_type": "markdown",
   "metadata": {},
   "source": [
    "## Evaluation\n",
    "\n"
   ]
  },
  {
   "cell_type": "markdown",
   "metadata": {},
   "source": [
    "# Results"
   ]
  }
 ],
 "metadata": {
  "kernelspec": {
   "display_name": "Python 3",
   "language": "python",
   "name": "python3"
  },
  "language_info": {
   "codemirror_mode": {
    "name": "ipython",
    "version": 3
   },
   "file_extension": ".py",
   "mimetype": "text/x-python",
   "name": "python",
   "nbconvert_exporter": "python",
   "pygments_lexer": "ipython3",
   "version": "3.8.5"
  }
 },
 "nbformat": 4,
 "nbformat_minor": 4
}
